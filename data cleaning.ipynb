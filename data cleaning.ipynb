{
 "cells": [
  {
   "cell_type": "code",
   "execution_count": null,
   "metadata": {},
   "outputs": [],
   "source": [
    "#delete rows and columns\n",
    "import numpy as np\n",
    "import pandas as pd\n",
    "import matplotlib.pyplot as plt\n",
    "import seaborn as sns "
   ]
  },
  {
   "cell_type": "code",
   "execution_count": null,
   "metadata": {},
   "outputs": [],
   "source": [
    "df=pd.read_csv(\"E:/python/data2/train.csv\")\n",
    "#df.shape\n",
    "pd.set_option('display.max_columns',None)\n",
    "pd.set_option('display.max_rows',None)\n",
    "df.head(6)\n",
    "#df.info()\n",
    "#no.of_missing_values\n",
    "#df.isnull().sum()"
   ]
  },
  {
   "cell_type": "code",
   "execution_count": null,
   "metadata": {},
   "outputs": [],
   "source": [
    "#white=impurity\n",
    "plt.figure(figsize=(25,25))\n",
    "sns.heatmap(df.isnull())"
   ]
  },
  {
   "cell_type": "code",
   "execution_count": null,
   "metadata": {},
   "outputs": [],
   "source": [
    "#percentage_of_missing_values\n",
    "null_var=df.isnull().sum()/df.shape[0]*100\n",
    "#more_then17\n",
    "drop_col=null_var[null_var>17].keys()\n",
    "drop_col"
   ]
  },
  {
   "cell_type": "code",
   "execution_count": null,
   "metadata": {},
   "outputs": [],
   "source": [
    "#drop_col\n",
    "df2=df.drop(columns=drop_col)\n",
    "df2.shape"
   ]
  },
  {
   "cell_type": "code",
   "execution_count": null,
   "metadata": {},
   "outputs": [],
   "source": [
    "sns.heatmap(df2.isnull())"
   ]
  },
  {
   "cell_type": "code",
   "execution_count": null,
   "metadata": {},
   "outputs": [],
   "source": [
    "#delete_row_where_na\n",
    "df3=df2.dropna()\n",
    "df3.shape\n",
    "#df3.isnull().sum()"
   ]
  },
  {
   "cell_type": "code",
   "execution_count": null,
   "metadata": {},
   "outputs": [],
   "source": [
    "#sns.heatmap(df3.isnull())\n",
    "#only_num_for_distplot\n",
    "df3.select_dtypes(include=['int64','float64']).columns"
   ]
  },
  {
   "cell_type": "code",
   "execution_count": null,
   "metadata": {},
   "outputs": [],
   "source": [
    "#before&after\n",
    "sns.distplot(df['MSSubClass'])\n",
    "sns.distplot(df3['MSSubClass'])"
   ]
  },
  {
   "cell_type": "code",
   "execution_count": null,
   "metadata": {},
   "outputs": [],
   "source": [
    "#for_all_values\n",
    "num_var=['MSSubClass', 'LotArea', 'OverallQual', 'OverallCond',\n",
    "       'YearBuilt', 'YearRemodAdd', 'MasVnrArea', 'BsmtFinSF1', 'BsmtFinSF2',\n",
    "       'BsmtUnfSF', 'TotalBsmtSF', '1stFlrSF', '2ndFlrSF', 'LowQualFinSF',\n",
    "       'GrLivArea', 'BsmtFullBath', 'BsmtHalfBath', 'FullBath', 'HalfBath',\n",
    "       'BedroomAbvGr', 'KitchenAbvGr', 'TotRmsAbvGrd', 'Fireplaces',\n",
    "       'GarageYrBlt', 'GarageCars', 'GarageArea', 'WoodDeckSF', 'OpenPorchSF',\n",
    "       'EnclosedPorch', '3SsnPorch', 'ScreenPorch', 'PoolArea', 'MiscVal',\n",
    "       'MoSold', 'YrSold', 'SalePrice']\n",
    "plt.figure(figsize=(25,25))\n",
    "for i,var in enumerate(num_var):\n",
    "    plt.subplot(9,4,i+1)#rows_columns_index\n",
    "    sns.distplot(df[var],bins= 20)\n",
    "    sns.distplot(df3[var],bins=20)"
   ]
  },
  {
   "cell_type": "code",
   "execution_count": null,
   "metadata": {},
   "outputs": [],
   "source": [
    "#plot_for_variable\n",
    "df3.select_dtypes(include=['object']).columns"
   ]
  },
  {
   "cell_type": "code",
   "execution_count": null,
   "metadata": {},
   "outputs": [],
   "source": [
    "#concat_2_df_and_change_column_name\n",
    "#after_before_cleaning\n",
    "pd.concat([df['MSZoning'].value_counts()/df.shape[0]*100,   \n",
    "           df3['MSZoning'].value_counts()/df3.shape[0]*100],\n",
    "          axis=1,keys=['MSZoning_org','MSZoning_clean'])"
   ]
  },
  {
   "cell_type": "code",
   "execution_count": null,
   "metadata": {},
   "outputs": [],
   "source": [
    "#function_for _above\n",
    "def cat(vari):\n",
    " return pd.concat([df['vari'].value_counts()/df.shape[0]*100,   \n",
    "           df3['vari'].value_counts()/df3.shape[0]*100],\n",
    "          axis=1,keys=[vari+'_org',vari+'clean'])"
   ]
  },
  {
   "cell_type": "code",
   "execution_count": null,
   "metadata": {},
   "outputs": [],
   "source": [
    "#part2-#manually-global_constant-mean-median_mode"
   ]
  },
  {
   "cell_type": "code",
   "execution_count": null,
   "metadata": {},
   "outputs": [],
   "source": [
    "import numpy as np\n",
    "import pandas as pd\n",
    "import matplotlib.pyplot as plt\n",
    "import seaborn as sns"
   ]
  },
  {
   "cell_type": "code",
   "execution_count": null,
   "metadata": {},
   "outputs": [],
   "source": [
    "df=pd.read_csv(\"E:/python/data2/train.csv\")\n",
    "pd.set_option('display.max_columns',None)\n",
    "pd.set_option('display.max_rows',None)\n",
    "#df.head()\n",
    "#df.info()\n",
    "#df.isnull().sum()\n",
    "#df.shape"
   ]
  },
  {
   "cell_type": "code",
   "execution_count": null,
   "metadata": {},
   "outputs": [],
   "source": [
    "#more_than_20\n",
    "null_var=df.isnull().sum()/df.shape[0]*100\n",
    "drop_col=null_var[null_var>20].keys()\n",
    "#drop_these\n",
    "df2=df.drop(column=drop_col)"
   ]
  },
  {
   "cell_type": "code",
   "execution_count": null,
   "metadata": {},
   "outputs": [],
   "source": [
    "#for_numeric_dataset\n",
    "df3=df2.select_dtypes(include=['int64','float64'])\n",
    "#sns.heatmap(df3.isnull())\n",
    "#missing_values\n",
    "#df3[df3.isnull().any(axis=1)]\n",
    "#df3.isnull().sum()"
   ]
  },
  {
   "cell_type": "code",
   "execution_count": null,
   "metadata": {},
   "outputs": [],
   "source": [
    "#all_columns_with_null_value\n",
    "miss_col=[i for i in df3.columns if df3[i].isnull().sum()>0]\n",
    "#check_mean_or_median\n",
    "#mean-symentric_graph&median_for_asymentric_graph\n",
    "plt.figure(figsize=(10,10))\n",
    "sns.set()\n",
    "for i,var in enumerate(miss_col):\n",
    "    plt.subplot(2,2,i+1)\n",
    "    sns.distplot(df3[var],bins=20,kde_kws={'linewidth':5,'color':'red'})"
   ]
  },
  {
   "cell_type": "code",
   "execution_count": null,
   "metadata": {},
   "outputs": [],
   "source": [
    "#fillna_with_mean\n",
    "df4=df3.fillna(df3.mean())\n",
    "#comparing\n",
    "plt.figure(figsize=(10,10))\n",
    "sns.set()\n",
    "for i,var in enumerate(miss_col):\n",
    "    plt.subplot(2,2,i+1)\n",
    "    sns.distplot(df3[var],bins=20,kde_kws={'linewidth':5,'color':'red'},label='original')\n",
    "    sns.distplot(df4[var],bins=20,kde_kws={'linewidth':5,'color':'green'},label='New')\n",
    "    plt.legend()"
   ]
  },
  {
   "cell_type": "code",
   "execution_count": null,
   "metadata": {},
   "outputs": [],
   "source": [
    "#fillna_with_median\n",
    "df5=df3.fillna(df3.median())\n",
    "#comparing\n",
    "plt.figure(figsize=(10,10))\n",
    "sns.set()\n",
    "for i,var in enumerate(miss_col):\n",
    "    plt.subplot(2,2,i+1)\n",
    "    sns.distplot(df3[var],bins=20,hist=False,kde_kws={'linewidth':8,'color':'red'},label='original')\n",
    "    sns.distplot(df4[var],bins=20,hist=False,kde_kws={'linewidth':5,'color':'green'},label='New')\n",
    "    sns.distplot(df5[var],bins=20,hist=False,kde_kws={'linewidth':3,'color':'yellow'},label='New2')\n",
    "    plt.legend()\n"
   ]
  },
  {
   "cell_type": "code",
   "execution_count": null,
   "metadata": {},
   "outputs": [],
   "source": [
    "#boxplot_#outliers\n",
    "for i,var in enumerate(miss_col):\n",
    "    plt.figure(figsize=(10,10))\n",
    "    plt.subplot(3,1,1)\n",
    "    sns.boxplot(df[var])\n",
    "    plt.subplot(3,1,2)\n",
    "    sns.boxplot(df4[var])\n",
    "    plt.subplot(3,1,3)\n",
    "    sns.boxplot(df5[var])"
   ]
  },
  {
   "cell_type": "code",
   "execution_count": null,
   "metadata": {},
   "outputs": [],
   "source": [
    "#concat_all_3\n",
    "df_concat=pd.concat([df3[miss_col],df4[miss_col],df5[miss_col]],axis=1)\n",
    "#row_where_na\n",
    "df_concat[df_concat.isnull().any(axis=1)]"
   ]
  },
  {
   "cell_type": "code",
   "execution_count": null,
   "metadata": {},
   "outputs": [],
   "source": [
    "#part_3\n",
    "#measure_of_central_tendency_for_each_class"
   ]
  },
  {
   "cell_type": "code",
   "execution_count": null,
   "metadata": {},
   "outputs": [],
   "source": [
    "import numpy as np\n",
    "import pandas as pd\n",
    "import matplotlib.pyplot as plt\n",
    "import seaborn as sns\n",
    "df=pd.read_csv(\"E:/python/data2/train.csv\")\n",
    "pd.set_option('display.max_columns',None)\n",
    "pd.set_option('display.max_rows',None)\n",
    "#more_than_20\n",
    "null_var=df.isnull().sum()/df.shape[0]*100\n",
    "drop_col=null_var[null_var>20].keys()\n",
    "#drop_these\n",
    "df2=df.drop(columns=drop_col)\n",
    "#num_dataset\n",
    "df3=df2.select_dtypes(include=['int64','float64'])\n",
    "#columns_with_na\n",
    "miss_col=[i for i in df3.columns if df3[i].isnull().sum()>0]\n",
    "#row_where_na\n",
    "#df3[miss_col][df3[miss_col].isnull().any(axis=1)]\n",
    "\n",
    "#fill_lotfrontage_with_lotconfig(for_reference)\n",
    "df['LotConfig'].unique()\n",
    "#df[df.loc[:,'LotConfig']=='Inside'][\"LotFrontage\"].replace(np.nan,df[df.loc[:,'LotConfig']=='Inside'][\"LotFrontage\"].mean())"
   ]
  },
  {
   "cell_type": "code",
   "execution_count": null,
   "metadata": {},
   "outputs": [],
   "source": [
    "df_copy = df.copy()\n",
    "for var_class in df['LotConfig'].unique():\n",
    "    df_copy.update(df[df.loc[:,'LotConfig'] == var_class][\"LotFrontage\"].replace(np.nan,df[df.loc[:,'LotConfig'] == var_class][\"LotFrontage\"].mean()))\n",
    "#df_copy.isnull().sum()    "
   ]
  },
  {
   "cell_type": "code",
   "execution_count": null,
   "metadata": {},
   "outputs": [],
   "source": [
    "df_copy = df.copy()\n",
    "num_vars_miss = ['LotFrontage', 'MasVnrArea', 'GarageYrBlt']\n",
    "cat_vars = ['LotConfig','Exterior2nd','KitchenQual']\n",
    "for cat_var, num_var_miss in zip(cat_vars,num_vars_miss):\n",
    "    for var_class in df[cat_var].unique():\n",
    "        df_copy.update(df[df.loc[:,cat_var] == var_class][num_var_miss].replace(np.nan,df[df.loc[:,cat_var] == var_class][num_var_miss].mean()))"
   ]
  },
  {
   "cell_type": "markdown",
   "metadata": {},
   "source": [
    "Data Distribution"
   ]
  },
  {
   "cell_type": "code",
   "execution_count": null,
   "metadata": {},
   "outputs": [],
   "source": [
    "plt.figure(figsize=(10,10))\n",
    "sns.set()\n",
    "for i, var in enumerate(num_vars_miss):\n",
    "    plt.subplot(2,2,i+1)\n",
    "    sns.distplot(df[var], bins=20, kde_kws={'linewidth':8, 'color':'red'}, label=\"Original\",)\n",
    "    sns.distplot(df_copy[var], bins=20, kde_kws={'linewidth':5, 'color':'green'},label=\"Mean\",)\n",
    "    plt.legend()"
   ]
  },
  {
   "cell_type": "markdown",
   "metadata": {},
   "source": [
    "median"
   ]
  },
  {
   "cell_type": "code",
   "execution_count": null,
   "metadata": {},
   "outputs": [],
   "source": [
    "df_copy_median = df.copy()\n",
    "num_vars_miss = ['LotFrontage', 'MasVnrArea', 'GarageYrBlt']\n",
    "cat_vars = ['LotConfig','Exterior2nd','KitchenQual']\n",
    "for cat_var, num_var_miss in zip(cat_vars,num_vars_miss):\n",
    "    for var_class in df[cat_var].unique():\n",
    "        df_copy.update(df[df.loc[:,cat_var] == var_class][num_var_miss].replace(np.nan,df[df.loc[:,cat_var] == var_class][num_var_miss].median()))"
   ]
  },
  {
   "cell_type": "code",
   "execution_count": null,
   "metadata": {},
   "outputs": [],
   "source": [
    "plt.figure(figsize=(10,10))\n",
    "sns.set()\n",
    "for i, var in enumerate(num_vars_miss):\n",
    "    plt.subplot(2,2,i+1)\n",
    "    sns.distplot(df[var], bins=20, kde_kws={'linewidth':8, 'color':'red'}, label=\"Original\",)\n",
    "    sns.distplot(df_copy[var], bins=20, kde_kws={'linewidth':5, 'color':'green'},label=\"Mean\",)\n",
    "    sns.distplot(df_copy_median[var], bins=20, kde_kws={'linewidth':5, 'color':'blue'},label=\"Median\",)\n",
    "    plt.legend()"
   ]
  },
  {
   "cell_type": "code",
   "execution_count": null,
   "metadata": {},
   "outputs": [],
   "source": [
    "#Boxplot\n",
    "for i,var in enumerate(num_vars_miss):\n",
    "    plt.figure(figsize=(10,10))\n",
    "    plt.subplot(3,1,1)\n",
    "    sns.boxplot(df[var])\n",
    "    plt.subplot(3,1,2)\n",
    "    sns.boxplot(df_copy[var])\n",
    "    plt.subplot(3,1,3)\n",
    "    sns.boxplot(df_copy_median[var])"
   ]
  },
  {
   "cell_type": "markdown",
   "metadata": {},
   "source": [
    "Mode for categorical"
   ]
  },
  {
   "cell_type": "code",
   "execution_count": null,
   "metadata": {},
   "outputs": [],
   "source": [
    "import pandas as pd\n",
    "import numpy as np\n",
    "import matplotlib.pyplot as plt\n",
    "import seaborn as sns\n",
    "df=pd.read_csv(\"E:/python/data2/train.csv\")\n",
    "cat_vars = df.select_dtypes(include='object')\n",
    "cat_vars.isnull().sum()\n",
    "miss_val_per = cat_vars.isnull().mean()*100\n",
    "drop_vars=['Alley','FireplaceQu','PoolQC','Fence','MiscFeature']\n",
    "cat_vars.drop(columns=drop_vars, axis=1, inplace=True)\n",
    "isnull_per=cat_vars.isnull().mean()*100\n",
    "miss_vars = isnull_per[isnull_per >0].keys()\n",
    "cat_vars['MasVnrType'].fillna(cat_vars['MasVnrType'].mode()[0]).value_counts()\n",
    "cat_vars_copy= cat_vars.copy()\n",
    "for var in miss_vars:\n",
    "    cat_vars_copy[var].fillna(cat_vars[var].mode()[0],inplace=True)\n",
    "    print(var,\"=\",cat_vars[var].mode()[0])\n",
    "cat_vars_copy.isnull().sum().sum()"
   ]
  },
  {
   "cell_type": "markdown",
   "metadata": {},
   "source": [
    "Plotting"
   ]
  },
  {
   "cell_type": "code",
   "execution_count": null,
   "metadata": {},
   "outputs": [],
   "source": [
    "plt.figure(figsize=(16,10))\n",
    "for i,var in enumerate(miss_cols):\n",
    "    plt.subplot(4,3,i+1)\n",
    "    plt.hist(df2[var],label='Input')\n",
    "    plt.hist(df[var].dropna(),label='Original')\n",
    "    plt.legend()"
   ]
  },
  {
   "cell_type": "code",
   "execution_count": null,
   "metadata": {},
   "outputs": [],
   "source": [
    "df.update(df2)\n",
    "df.drop(columns=drop_col,inplace=True)\n",
    "df.select_dtypes(include='object').isnull().sum()"
   ]
  },
  {
   "cell_type": "markdown",
   "metadata": {},
   "source": [
    "# one hot encoding and dummy variables\n"
   ]
  },
  {
   "cell_type": "code",
   "execution_count": null,
   "metadata": {},
   "outputs": [],
   "source": [
    "import pandas as pd \n",
    "tips_df = pd.read_csv(\"E:/python/data2/tips.csv\")\n",
    "dummy_df = pd.get_dummies(tips_df)\n",
    "pd.get_dummies(tips_df, drop_first=True)"
   ]
  },
  {
   "cell_type": "code",
   "execution_count": null,
   "metadata": {},
   "outputs": [],
   "source": [
    "#one_hot_encoder_with_scikit_learn\n",
    "from sklearn.preprocessing import OneHotEncoder\n",
    "oh_enc = OneHotEncoder(sparse=False)\n",
    "oh_enc_arr = oh_enc.fit_transform(tips_df[['sex','smoker','day','time']])\n",
    "#oh_enc_arr\n",
    "dummy_df.keys()\n",
    "oh_enc_df = pd.DataFrame(oh_enc_arr, columns=['sex_Female', 'sex_Male', 'smoker_No',\n",
    "       'smoker_Yes', 'day_Fri', 'day_Sat', 'day_Sun', 'day_Thur',\n",
    "       'time_Dinner', 'time_Lunch'])\n",
    "oh_enc_df"
   ]
  },
  {
   "cell_type": "markdown",
   "metadata": {},
   "source": [
    "# label_&_ordinal_encoding\n",
    "#ordinal-can be ordered-eg-rating_of product\n",
    "#nominal-cannot_be_measured-eg-python-java-c\n",
    "#label on both cat_var\n",
    "#ordinal_encoding on ordinal var"
   ]
  },
  {
   "cell_type": "code",
   "execution_count": null,
   "metadata": {},
   "outputs": [],
   "source": [
    "#label_encoding\n",
    "import pandas as pd\n",
    "from sklearn.preprocessing import LabelEncoder\n",
    "pd.set_option(\"display.max_rows\",None)\n",
    "df=pd.read_csv(\"E:/python/data2/train.csv\")\n",
    "df2=df[['KitchenQual','BldgType']]\n",
    "le=LabelEncoder()\n",
    "df2[\"bldgtype_enc\"]=le.fit_transform(df2['BldgType'])\n",
    "df2"
   ]
  },
  {
   "cell_type": "code",
   "execution_count": null,
   "metadata": {},
   "outputs": [],
   "source": [
    "#ordinal\n",
    "order_label={\"Ex\":4,\"Gd\":3,\"TA\":2,\"Fa\":1}\n",
    "df2[\"kitchen_qual_enc\"]=df2[\"KitchenQual\"].map(order_label)\n",
    "df2"
   ]
  },
  {
   "cell_type": "markdown",
   "metadata": {},
   "source": [
    "## feature_scaling\n",
    "## Standardizaion_&_normalization\n",
    "#### standardization_rescales_feature_as_mean=0_and_standard_deviation=1\n",
    "z=x-mean/deviation #z_score_normalization\n",
    "use-clustering,PCA\n",
    "#### normalization-rescale_feature_in_fixed_range_0_to_1\n",
    "#also_called_as_min_max_scaling\n",
    "use-image-processing_neural-network_k-nearset_negihbor"
   ]
  },
  {
   "cell_type": "code",
   "execution_count": 7,
   "metadata": {},
   "outputs": [
    {
     "data": {
      "text/html": [
       "<div>\n",
       "<style scoped>\n",
       "    .dataframe tbody tr th:only-of-type {\n",
       "        vertical-align: middle;\n",
       "    }\n",
       "\n",
       "    .dataframe tbody tr th {\n",
       "        vertical-align: top;\n",
       "    }\n",
       "\n",
       "    .dataframe thead th {\n",
       "        text-align: right;\n",
       "    }\n",
       "</style>\n",
       "<table border=\"1\" class=\"dataframe\">\n",
       "  <thead>\n",
       "    <tr style=\"text-align: right;\">\n",
       "      <th></th>\n",
       "      <th>pclass</th>\n",
       "      <th>age</th>\n",
       "      <th>parch</th>\n",
       "    </tr>\n",
       "  </thead>\n",
       "  <tbody>\n",
       "    <tr>\n",
       "      <th>count</th>\n",
       "      <td>712.000000</td>\n",
       "      <td>712.000000</td>\n",
       "      <td>712.000000</td>\n",
       "    </tr>\n",
       "    <tr>\n",
       "      <th>mean</th>\n",
       "      <td>2.306180</td>\n",
       "      <td>29.554091</td>\n",
       "      <td>0.391854</td>\n",
       "    </tr>\n",
       "    <tr>\n",
       "      <th>std</th>\n",
       "      <td>0.844651</td>\n",
       "      <td>13.000763</td>\n",
       "      <td>0.797035</td>\n",
       "    </tr>\n",
       "    <tr>\n",
       "      <th>min</th>\n",
       "      <td>1.000000</td>\n",
       "      <td>0.420000</td>\n",
       "      <td>0.000000</td>\n",
       "    </tr>\n",
       "    <tr>\n",
       "      <th>25%</th>\n",
       "      <td>1.750000</td>\n",
       "      <td>22.000000</td>\n",
       "      <td>0.000000</td>\n",
       "    </tr>\n",
       "    <tr>\n",
       "      <th>50%</th>\n",
       "      <td>3.000000</td>\n",
       "      <td>29.699118</td>\n",
       "      <td>0.000000</td>\n",
       "    </tr>\n",
       "    <tr>\n",
       "      <th>75%</th>\n",
       "      <td>3.000000</td>\n",
       "      <td>35.000000</td>\n",
       "      <td>0.000000</td>\n",
       "    </tr>\n",
       "    <tr>\n",
       "      <th>max</th>\n",
       "      <td>3.000000</td>\n",
       "      <td>71.000000</td>\n",
       "      <td>5.000000</td>\n",
       "    </tr>\n",
       "  </tbody>\n",
       "</table>\n",
       "</div>"
      ],
      "text/plain": [
       "           pclass         age       parch\n",
       "count  712.000000  712.000000  712.000000\n",
       "mean     2.306180   29.554091    0.391854\n",
       "std      0.844651   13.000763    0.797035\n",
       "min      1.000000    0.420000    0.000000\n",
       "25%      1.750000   22.000000    0.000000\n",
       "50%      3.000000   29.699118    0.000000\n",
       "75%      3.000000   35.000000    0.000000\n",
       "max      3.000000   71.000000    5.000000"
      ]
     },
     "execution_count": 7,
     "metadata": {},
     "output_type": "execute_result"
    }
   ],
   "source": [
    "import pandas as pd \n",
    "import seaborn as sns\n",
    "from sklearn.preprocessing import StandardScaler\n",
    "from sklearn.preprocessing import MinMaxScaler\n",
    "from sklearn.model_selection import train_test_split\n",
    "df = sns.load_dataset(\"titanic\")\n",
    "df2 = df[['survived',\"pclass\",'age','parch']]\n",
    "df3 = df2.fillna(df2.mean())\n",
    "X = df3.drop(\"survived\", axis = 1)\n",
    "y = df3[\"survived\"]\n",
    "X_train, X_test, y_train, y_test =train_test_split(X, y, test_size=0.2, random_state=51)\n",
    "sc = StandardScaler()\n",
    "sc.fit(X_train )\n",
    "X_train.describe()"
   ]
  },
  {
   "cell_type": "code",
   "execution_count": 17,
   "metadata": {},
   "outputs": [
    {
     "data": {
      "text/plain": [
       "<seaborn.axisgrid.PairGrid at 0x1e0b8ef33c8>"
      ]
     },
     "execution_count": 17,
     "metadata": {},
     "output_type": "execute_result"
    },
    {
     "data": {
      "image/png": "[encoded data removed]",
      "text/plain": [
       "<Figure size 540x540 with 12 Axes>"
      ]
     },
     "metadata": {
      "needs_background": "light"
     },
     "output_type": "display_data"
    }
   ],
   "source": [
    "X_train_sc=sc.transform(X_train)\n",
    "X_test_sc=sc.transform(X_test)\n",
    "X_train_sc=pd.DataFrame(X_train_sc,columns=[\"pclass\",'age','parch'])\n",
    "X_test_sc=pd.DataFrame(X_test_sc,columns=[\"pclass\",'age','parch'])\n",
    "X_train_sc.describe().round(2)\n",
    "mmc=MinMaxScaler()\n",
    "mmc.fit(X_train)\n",
    "X_train_mmc=mmc.transform(X_train)\n",
    "X_test_mmc=mmc.transform(X_test)\n",
    "X_train_mmc\n",
    "X_train_mmc=pd.DataFrame(X_train_mmc,columns=[\"pclass\",'age','parch'])\n",
    "X_test_mmc=pd.DataFrame(X_test_mmc,columns=[\"pclass\",'age','parch'])\n",
    "X_train_mmc.describe().round(2)\n",
    "sns.pairplot(X_train)"
   ]
  },
  {
   "cell_type": "code",
   "execution_count": null,
   "metadata": {},
   "outputs": [],
   "source": []
  }
 ],
 "metadata": {
  "kernelspec": {
   "display_name": "Python 3",
   "language": "python",
   "name": "python3"
  },
  "language_info": {
   "codemirror_mode": {
    "name": "ipython",
    "version": 3
   },
   "file_extension": ".py",
   "mimetype": "text/x-python",
   "name": "python",
   "nbconvert_exporter": "python",
   "pygments_lexer": "ipython3",
   "version": "3.6.4"
  }
 },
 "nbformat": 4,
 "nbformat_minor": 4
}
