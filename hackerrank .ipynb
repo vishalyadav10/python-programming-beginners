{
 "cells": [
  {
   "cell_type": "code",
   "execution_count": null,
   "metadata": {},
   "outputs": [],
   "source": [
    "#sock_merchant\n",
    "n=int(input())\n",
    "arr=list(map(int,input().split()[:n]))\n",
    "b=0\n",
    "for i in set(arr):\n",
    "    x=arr.count(i)\n",
    "    if x>=2:\n",
    "        b=x//2+b\n",
    "print(b)             \n"
   ]
  },
  {
   "cell_type": "code",
   "execution_count": null,
   "metadata": {},
   "outputs": [],
   "source": [
    "#counting_valleys\n",
    "n = int(input())\n",
    "steps = input()\n",
    "\n",
    "num_valleys, curr_level = 0, 0\n",
    "for step in steps:\n",
    "    if step=='U':\n",
    "        curr_level+=1\n",
    "    else:\n",
    "        if curr_level==0:\n",
    "            num_valleys+=1\n",
    "        curr_level-=1\n",
    "print(num_valleys)\n"
   ]
  },
  {
   "cell_type": "code",
   "execution_count": null,
   "metadata": {},
   "outputs": [],
   "source": [
    "#jumping_clouds\n",
    "n=int(input())\n",
    "clouds=list(map(int,input().split()[:n]))\n",
    "current = 0\n",
    "end = n - 1\n",
    "jumps = 0\n",
    "while current < end:\n",
    "    if ((current + 2) <= end) and (clouds[current + 2] == 0):\n",
    "        current += 2\n",
    "        jumps += 1\n",
    "    elif clouds[current + 1] == 0:\n",
    "        current += 1\n",
    "        jumps += 1\n",
    "print(jumps)\n"
   ]
  },
  {
   "cell_type": "code",
   "execution_count": null,
   "metadata": {},
   "outputs": [],
   "source": [
    "#repeated_string\n",
    "def repeatedString(s, n):\n",
    "    len_s=len(s)\n",
    "    num=n//len_s\n",
    "    rem=n%len_s\n",
    "    c1=0\n",
    "    c2=0\n",
    "    for i in range(len_s):\n",
    "        if s[i]=='a':\n",
    "            c1+=1\n",
    "        if s[i]=='a' and i<rem:\n",
    "            c2+=1\n",
    "    total=c1*num+c2\n",
    "    return total"
   ]
  },
  {
   "cell_type": "code",
   "execution_count": null,
   "metadata": {},
   "outputs": [],
   "source": [
    "#hourglass_matrix\n",
    "def hourglassSum(arr):\n",
    "    maxSum = -63\n",
    "    for i in range(4):\n",
    "        for j in range(4):\n",
    "            # sum of top 3 elements\n",
    "            top = sum(arr[i][j:j+3])\n",
    "            \n",
    "            # sum of the mid element\n",
    "            mid = arr[i+1][j+1]\n",
    "            \n",
    "            # sum of bottom 3 elements\n",
    "            bottom = sum(arr[i+2][j:j+3])\n",
    "            \n",
    "            hourglass = top + mid + bottom\n",
    "            if hourglass > maxSum:\n",
    "                maxSum = hourglass\n",
    "                \n",
    "    return maxSum\n",
    "if __name__=='__main__':\n",
    "    arr=[]\n",
    "    for _ in range(6):\n",
    "        arr.append(list(map(int,input().split())))\n",
    "        res=hourglassSum(arr)\n",
    "        print(res)\n",
    "    \n",
    "    "
   ]
  },
  {
   "cell_type": "code",
   "execution_count": null,
   "metadata": {},
   "outputs": [],
   "source": [
    "#minimum_swaps_2"
   ]
  },
  {
   "cell_type": "code",
   "execution_count": null,
   "metadata": {},
   "outputs": [],
   "source": [
    "#bubble_sort\n",
    "n = int(input())\n",
    "a = list(map(int, input().rstrip().split()))\n",
    "count=0\n",
    "for i in range(n-1):\n",
    "    for j in range(0,n-i-1):\n",
    "        if a[j]>a[j+1]:\n",
    "            count+=1\n",
    "            a[j],a[j+1]=a[j+1],a[j]\n",
    "print(\"Array is sorted in {} swaps.\".format(count))\n",
    "print(\"First Element: {}\".format(a[0]))\n",
    "print(\"Last Element: {}\".format(a[-1]))"
   ]
  },
  {
   "cell_type": "code",
   "execution_count": null,
   "metadata": {},
   "outputs": [],
   "source": [
    "#Mark and Toys\n",
    "nk = input().split()\n",
    "n = int(nk[0])\n",
    "k = int(nk[1])\n",
    "prices = list(map(int, input().rstrip().split()))\n",
    "new=sorted(prices)\n",
    "cnt=new[0]\n",
    "flag=0\n",
    "for i in range(1,len(new)):\n",
    "    if cnt<=k:\n",
    "        cnt=new[i]+cnt\n",
    "        flag+=1\n",
    "print(flag)"
   ]
  },
  {
   "cell_type": "code",
   "execution_count": null,
   "metadata": {},
   "outputs": [],
   "source": [
    "#time_conversion\n",
    "s =input()\n",
    "zn = s[-2:]\n",
    "if zn == \"PM\" and s[:2] != \"12\":\n",
    "    s = str(12 + int(s[:2])) + s[2:]\n",
    "if zn == \"AM\" and s[:2] == \"12\":\n",
    "    s = \"00\" + s[2:]\n",
    "print s[:-2]\n"
   ]
  },
  {
   "cell_type": "code",
   "execution_count": null,
   "metadata": {},
   "outputs": [],
   "source": [
    "#grading Students\n",
    "grades_count = int(input().strip())\n",
    "grades = []\n",
    "for _ in range(grades_count):\n",
    "        grades_item = int(input().strip())\n",
    "        grades.append(grades_item)\n",
    "for i in range(len(grades)):\n",
    "        if grades[i]>=38:\n",
    "            if ((grades[i]+1) %5==0): \n",
    "                grades[i]=grades[i]+1\n",
    "            elif ((grades[i]+2) %5==0):\n",
    "                grades[i]=grades[i]+2\n",
    "for i in grades:\n",
    "    print(i)"
   ]
  },
  {
   "cell_type": "code",
   "execution_count": 5,
   "metadata": {},
   "outputs": [
    {
     "name": "stdout",
     "output_type": "stream",
     "text": [
      "0 3 4 2\n",
      "YES\n"
     ]
    }
   ],
   "source": [
    "#magic_square(don't know)\n",
    "arr = list(map(int, input().split()))\n",
    "arr.extend(map(int,input().split()))\n",
    "arr.extend(map(int,input().split()))\n",
    "magic = [[8, 1, 6, 3, 5, 7, 4, 9, 2], [6, 1, 8, 7, 5, 3, 2, 9, 4],\n",
    "         [4, 3, 8, 9, 5, 1, 2, 7, 6], [2, 7, 6, 9, 5, 1, 4, 3, 8],\n",
    "         [2, 9, 4, 7, 5, 3, 6, 1, 8], [4, 9, 2, 3, 5, 7, 8, 1, 6],\n",
    "         [6, 7, 2, 1, 5, 9, 8, 3, 4], [8, 3, 4, 1, 5, 9, 6, 7, 2]]\n",
    "mini = 2**64\n",
    "for brr in magic:\n",
    "    diff = 0\n",
    "    for i, j in zip(arr, brr):\n",
    "        diff += abs(i - j)\n",
    "    mini = min(diff, mini)\n",
    "print (mini)"
   ]
  },
  {
   "cell_type": "code",
   "execution_count": null,
   "metadata": {},
   "outputs": [],
   "source": []
  }
 ],
 "metadata": {
  "kernelspec": {
   "display_name": "Python 3",
   "language": "python",
   "name": "python3"
  },
  "language_info": {
   "codemirror_mode": {
    "name": "ipython",
    "version": 3
   },
   "file_extension": ".py",
   "mimetype": "text/x-python",
   "name": "python",
   "nbconvert_exporter": "python",
   "pygments_lexer": "ipython3",
   "version": "3.6.4"
  }
 },
 "nbformat": 4,
 "nbformat_minor": 2
}
