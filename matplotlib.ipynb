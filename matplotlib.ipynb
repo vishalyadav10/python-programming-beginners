{
 "cells": [
  {
   "cell_type": "code",
   "execution_count": null,
   "metadata": {},
   "outputs": [],
   "source": [
    "import numpy as np"
   ]
  },
  {
   "cell_type": "code",
   "execution_count": null,
   "metadata": {},
   "outputs": [],
   "source": [
    "a=np.ones([3,3])\n",
    "np.save(\"ab.npy\",a)\n",
    "x=np.load(\"ab.npy\")\n",
    "x"
   ]
  },
  {
   "cell_type": "code",
   "execution_count": null,
   "metadata": {},
   "outputs": [],
   "source": [
    "m1=np.arange(1,17,1).reshape(4,4)\n",
    "m2=m1[1:4,1:4]\n",
    "m2\n"
   ]
  },
  {
   "cell_type": "code",
   "execution_count": null,
   "metadata": {},
   "outputs": [],
   "source": [
    "x=np.random.randint(10,size=(2,4))\n",
    "print(x)\n",
    "print(np.random.randn())"
   ]
  },
  {
   "cell_type": "code",
   "execution_count": null,
   "metadata": {},
   "outputs": [],
   "source": [
    "a=np.arange(1,13,1).reshape(4,3)\n",
    "print(a)\n",
    "c=a[-1::-1,-1::-1]\n",
    "print(c)"
   ]
  },
  {
   "cell_type": "code",
   "execution_count": null,
   "metadata": {},
   "outputs": [],
   "source": [
    "import pandas as pd\n",
    "df=pd.read_excel('Book1.xlsx',names=['Name','Age','Salary'])\n",
    "df"
   ]
  },
  {
   "cell_type": "code",
   "execution_count": null,
   "metadata": {},
   "outputs": [],
   "source": [
    "import pandas as pd\n",
    "workbook_url = ('E:/python/data/2018_Sales_Total_Tabs.xlsx')\n",
    "single_df = pd.read_excel(workbook_url, sheet_name='Sheet1')\n",
    "print(single_df)\n"
   ]
  },
  {
   "cell_type": "code",
   "execution_count": null,
   "metadata": {},
   "outputs": [],
   "source": [
    "#pivot_table\n",
    "import pandas as pd\n",
    "import numpy as np\n",
    "df=pd.read_excel(\"E:/python/data/2018_Sales_Total.xlsx\")\n",
    "(df.groupby(\"name\")['ext price'].agg(['mean','sum']).style.format('{0:.2f}'))\n"
   ]
  },
  {
   "cell_type": "code",
   "execution_count": null,
   "metadata": {},
   "outputs": [],
   "source": [
    "from matplotlib import pyplot as plt\n",
    "x=[2005,2008,2010,2016,2020]\n",
    "y=[3,2,1,4,5]\n",
    "plt.xlabel(\"x-axis\")\n",
    "plt.ylabel(\"y-axis\")\n",
    "plt.title('graph')\n",
    "plt.grid(True)\n",
    "plt.plot(x,y,\"r\",linewidth=5)\n",
    "plt.show()\n"
   ]
  },
  {
   "cell_type": "code",
   "execution_count": null,
   "metadata": {},
   "outputs": [],
   "source": [
    "from matplotlib import pyplot as plt\n",
    "x=[2005,2008,2010,2016,2020]\n",
    "y=[3,2,1,4,5]\n",
    "y1=[1,2,3,4,5]\n",
    "plt.xlabel(\"x-axis\")\n",
    "plt.ylabel(\"y-axis\")\n",
    "plt.title('graph')\n",
    "plt.grid(True)\n",
    "plt.plot(x,y,\"r\",label=\"delhi \",linewidth=5)\n",
    "plt.plot(x,y1,\"m\",label=\"mumbai\",linewidth=5)\n",
    "plt.legend()\n",
    "plt.show()\n"
   ]
  },
  {
   "cell_type": "code",
   "execution_count": null,
   "metadata": {},
   "outputs": [],
   "source": [
    "from matplotlib import pyplot as plt\n",
    "days=[7,2,3,13]\n",
    "activities=['sleeping','eating',\"walking\",'working']\n",
    "cols=[\"c\",'m','r','b']\n",
    "plt.pie(days,labels=activities,colors=cols,startangle=90,shadow=True,explode=[0,0,0,.05],autopct='%1.1f%%')\n",
    "plt.savefig('pie.png')\n",
    "plt.legend()\n",
    "plt.title('daily')\n",
    "plt.show()"
   ]
  },
  {
   "cell_type": "code",
   "execution_count": null,
   "metadata": {},
   "outputs": [],
   "source": [
    "from matplotlib import pyplot as plt\n",
    "days=[7,2,3,13]\n",
    "activities=['sleeping','eating',\"walking\",'working']\n",
    "cols=[\"c\",'m','r','b']\n",
    "plt.pie(days,labels=activities,colors=cols,startangle=90,shadow=True,explode=[0,0,0,.05],autopct='%1.1f%%')\n",
    "plt.savefig('pie.png')\n",
    "mcircle=plt.Circle((0,0),0.7,color='whilte')\n",
    "#donut\n",
    "plt.legend()\n",
    "plt.title('daily')\n",
    "plt.show()"
   ]
  },
  {
   "cell_type": "code",
   "execution_count": null,
   "metadata": {},
   "outputs": [],
   "source": [
    "from matplotlib import pyplot as plt\n",
    "x=['nuc','hydro','gas','coal','biofuel']\n",
    "energy=[5,6,15,22,24]\n",
    "pos=[i for i,j in enumerate(x)]\n",
    "plt.bar(pos,energy,color='blue')\n",
    "plt.xlabel(\"x-axis\")\n",
    "plt.ylabel(\"y-axis\")\n",
    "plt.title('graph')\n",
    "plt.xticks(pos,x)\n",
    "plt.show()"
   ]
  },
  {
   "cell_type": "code",
   "execution_count": null,
   "metadata": {},
   "outputs": [],
   "source": [
    "from matplotlib import pyplot as plt\n",
    "import numpy as np\n",
    "obj=('python','java','c++','c','.net')\n",
    "pos=np.arange(len(obj))\n",
    "performance=[10,8,6,4,2]\n",
    "plt.bar(pos,performance,align='center',alpha=.9)\n",
    "plt.xticks(pos,obj)\n",
    "plt.title('program')\n",
    "plt.show()"
   ]
  },
  {
   "cell_type": "code",
   "execution_count": null,
   "metadata": {},
   "outputs": [],
   "source": [
    "from matplotlib import pyplot as plt\n",
    "import numpy as np\n",
    "group=4\n",
    "priyansh=(90,55,40,65)\n",
    "tanmay=(85,62,54,20)\n",
    "fig,ax=plt.subplots()\n",
    "idx=np.arange(group)\n",
    "bar_width=.35\n",
    "r1=plt.bar(idx,priyansh,bar_width,alpha=.8,color='b',label='priyansh')\n",
    "r1=plt.bar(idx+bar_width,tanmay,bar_width,alpha=.8,color='g',label='tanmay')\n",
    "plt.xlabel('')\n",
    "plt.ylabel('')\n",
    "plt.title('')\n",
    "plt.xticks(idx+bar_width,('a','b','c','d'))\n",
    "plt.legend()\n",
    "plt.show()\n"
   ]
  },
  {
   "cell_type": "code",
   "execution_count": null,
   "metadata": {},
   "outputs": [],
   "source": [
    "from matplotlib import pyplot as plt\n",
    "import numpy as np\n",
    "age=[22,34,24,45,23,45,6,65,43,23,5,23,34,54,21,43,25,56]\n",
    "bins=[10,20,30,40,50,60,70]\n",
    "plt.hist(age,bins,histtype='bar',rwidth=.9,color='orange',orientation='vertical')\n",
    "plt.xlabel('age groups')\n",
    "plt.ylabel('no. of people')\n",
    "plt.title('histogram')\n",
    "plt.show()\n",
    "\n"
   ]
  },
  {
   "cell_type": "code",
   "execution_count": null,
   "metadata": {},
   "outputs": [],
   "source": [
    "#from_file\n",
    "import pandas as pd\n",
    "data=pd.read_csv('iris.csv')\n",
    "data.head()"
   ]
  },
  {
   "cell_type": "code",
   "execution_count": null,
   "metadata": {},
   "outputs": [],
   "source": [
    "x=data.iloc[:,2]\n",
    "y=data.iloc[:,2]\n",
    "group=len(x)\n",
    "priyansh=tuple(x)\n",
    "tanmay=tuple(y)\n",
    "fig,ax=plt.subplots()\n",
    "idx=np.arange(group)\n",
    "bar_width=.35\n",
    "r1=plt.bar(idx,priyansh,bar_width,alpha=.8,color='b',label='priyansh')\n",
    "r1=plt.bar(idx+bar_width,tanmay,bar_width,alpha=.8,color='g',label='tanmay')\n",
    "plt.xlabel('')\n",
    "plt.ylabel('')\n",
    "plt.title('')\n",
    "plt.xticks(idx+bar_width,('a','b','c','d'))\n",
    "plt.legend()\n",
    "plt.show()\n",
    "\n"
   ]
  },
  {
   "cell_type": "code",
   "execution_count": null,
   "metadata": {},
   "outputs": [],
   "source": [
    "#value on bar\n",
    "from matplotlib import pyplot as plt\n",
    "x=['a','b,','c','d']\n",
    "y=[1,2,3,4]\n",
    "plt.barh(x,y)\n",
    "plt.xticks(y)\n",
    "for i,v in enumerate(y):\n",
    "    plt.text(v,i,str(v))"
   ]
  },
  {
   "cell_type": "code",
   "execution_count": null,
   "metadata": {},
   "outputs": [],
   "source": [
    "#value on bar\n",
    "import numpy as np\n",
    "import pandas as pd\n",
    "import matplotlib.pyplot as plt\n",
    "freq=[6,16,75,160,244,300,145]\n",
    "freq_series=pd.Series.from_array(freq)\n",
    "x_lables=[108200.4,110544,112780,115020,117260,119500,121740.45]\n",
    "ax=plt.figure(figsize=(10,8))\n",
    "ax=frreq_series.plot(kind='bar')\n",
    "ax.set_title('amount frequency')\n",
    "ax.set_xlabel('amount(rs)')\n",
    "ax.set_ylabel('frequency')\n",
    "ax.set_xticklabels(x_labels)\n",
    "rects=ax.patches\n",
    "labels=[\"Bar %d\" %i for i in range(1,len(rects)+1)]\n",
    "for rect,label in zip(rects,labels):\n",
    "    height=rect.get_height()\n",
    "    ax.text(rect.get_x()+rect.get_width()/2,heigth+1,label,ha='center',va='bottom')"
   ]
  },
  {
   "cell_type": "code",
   "execution_count": null,
   "metadata": {},
   "outputs": [],
   "source": [
    "#multiple graph(sine waves)\n",
    "import matplotlib.pyplot as plt\n",
    "x=np.arange(0,11,0.1)\n",
    "y=np.sin(x)\n",
    "y1=np.cos(x)\n",
    "plt.title(\"graph\")\n",
    "plt.plot(x,y)\n",
    "plt.plot(x,y1)\n",
    "plt.grid(True)\n",
    "plt.show()"
   ]
  },
  {
   "cell_type": "code",
   "execution_count": null,
   "metadata": {},
   "outputs": [],
   "source": [
    "import matplotlib.pyplot as plt\n",
    "x=np.arange(0,11,0.1)\n",
    "y=np.sin(x)\n",
    "y1=np.cos(x)\n",
    "plt.subplot(2,2,1)#height,width,first_image\n",
    "plt.plot(x,y)\n",
    "plt.title('sine')\n",
    "plt.subplot(2,2,2)##height,width,sec_image\n",
    "plt.plot(x,y1)\n",
    "plt.plot(\"cosine\")\n",
    "plt.show()"
   ]
  },
  {
   "cell_type": "code",
   "execution_count": null,
   "metadata": {},
   "outputs": [],
   "source": [
    "from matplotlib import pyplot as plt\n",
    "x=[1,3,5,7]\n",
    "y=[90.4,100.3,56,120]\n",
    "for i in range(1,7):\n",
    "    plt.subplot(3,2,i)\n",
    "    plt.plot(x,y)\n",
    "plt.show()    \n"
   ]
  },
  {
   "cell_type": "code",
   "execution_count": null,
   "metadata": {},
   "outputs": [],
   "source": [
    "import nltk\n",
    "nltk.download()"
   ]
  },
  {
   "cell_type": "code",
   "execution_count": null,
   "metadata": {},
   "outputs": [],
   "source": [
    "#seaborn"
   ]
  },
  {
   "cell_type": "code",
   "execution_count": 8,
   "metadata": {},
   "outputs": [
    {
     "name": "stdout",
     "output_type": "stream",
     "text": [
      "   total_bill   tip     sex smoker  day    time  size\n",
      "0       16.99  1.01  Female     No  Sun  Dinner     2\n",
      "1       10.34  1.66    Male     No  Sun  Dinner     3\n",
      "2       21.01  3.50    Male     No  Sun  Dinner     3\n",
      "3       23.68  3.31    Male     No  Sun  Dinner     2\n",
      "4       24.59  3.61  Female     No  Sun  Dinner     4\n"
     ]
    },
    {
     "data": {
      "image/png": "[encoded data removed]",
      "text/plain": [
       "<Figure size 432x288 with 1 Axes>"
      ]
     },
     "metadata": {
      "needs_background": "light"
     },
     "output_type": "display_data"
    }
   ],
   "source": [
    "import matplotlib.pyplot as plt\n",
    "import pandas as pd\n",
    "fig,ax=plt.subplots()\n",
    "data=pd.read_csv(\"https://raw.githubusercontent.com/mwaskom/seaborn-data/master/tips.csv\")\n",
    "print(data.head())\n",
    "ax.violinplot(data[\"tip\"])\n",
    "plt.xlabel('tips')\n",
    "plt.ylabel('value')\n",
    "plt.show()"
   ]
  },
  {
   "cell_type": "code",
   "execution_count": null,
   "metadata": {},
   "outputs": [],
   "source": [
    "import seaborn as sns\n",
    "abc=sns.load_dataset(\"tips\")\n",
    "sns.swarmplot(x='tip',y='smoker',data=abc)\n"
   ]
  },
  {
   "cell_type": "code",
   "execution_count": 9,
   "metadata": {},
   "outputs": [
    {
     "name": "stdout",
     "output_type": "stream",
     "text": [
      "<class 'pandas.core.frame.DataFrame'>\n",
      "RangeIndex: 891 entries, 0 to 890\n",
      "Data columns (total 11 columns):\n",
      " #   Column    Non-Null Count  Dtype  \n",
      "---  ------    --------------  -----  \n",
      " 0   survived  891 non-null    int64  \n",
      " 1   pclass    891 non-null    int64  \n",
      " 2   name      891 non-null    object \n",
      " 3   sex       891 non-null    object \n",
      " 4   age       714 non-null    float64\n",
      " 5   sibsp     891 non-null    int64  \n",
      " 6   parch     891 non-null    int64  \n",
      " 7   ticket    891 non-null    object \n",
      " 8   fare      891 non-null    float64\n",
      " 9   cabin     204 non-null    object \n",
      " 10  embarked  889 non-null    object \n",
      "dtypes: float64(2), int64(4), object(5)\n",
      "memory usage: 76.7+ KB\n"
     ]
    },
    {
     "ename": "NameError",
     "evalue": "name 'pal' is not defined",
     "output_type": "error",
     "traceback": [
      "\u001b[1;31m---------------------------------------------------------------------------\u001b[0m",
      "\u001b[1;31mNameError\u001b[0m                                 Traceback (most recent call last)",
      "\u001b[1;32m<ipython-input-9-71a22ba4c088>\u001b[0m in \u001b[0;36m<module>\u001b[1;34m\u001b[0m\n\u001b[0;32m      4\u001b[0m \u001b[0mtitanic\u001b[0m \u001b[1;33m=\u001b[0m \u001b[0mpd\u001b[0m\u001b[1;33m.\u001b[0m\u001b[0mread_csv\u001b[0m\u001b[1;33m(\u001b[0m\u001b[0murl\u001b[0m\u001b[1;33m)\u001b[0m\u001b[1;33m\u001b[0m\u001b[0m\n\u001b[0;32m      5\u001b[0m \u001b[0mtitanic\u001b[0m\u001b[1;33m.\u001b[0m\u001b[0minfo\u001b[0m\u001b[1;33m(\u001b[0m\u001b[1;33m)\u001b[0m\u001b[1;33m\u001b[0m\u001b[0m\n\u001b[1;32m----> 6\u001b[1;33m \u001b[0msns\u001b[0m\u001b[1;33m.\u001b[0m\u001b[0mfactorplot\u001b[0m\u001b[1;33m(\u001b[0m\u001b[1;34m\"sex\"\u001b[0m\u001b[1;33m,\u001b[0m \u001b[0mdata\u001b[0m\u001b[1;33m=\u001b[0m\u001b[0mtitanic\u001b[0m\u001b[1;33m,\u001b[0m \u001b[0mpalette\u001b[0m\u001b[1;33m=\u001b[0m\u001b[0mpal\u001b[0m\u001b[1;33m)\u001b[0m\u001b[1;33m\u001b[0m\u001b[0m\n\u001b[0m",
      "\u001b[1;31mNameError\u001b[0m: name 'pal' is not defined"
     ]
    }
   ],
   "source": [
    "#factorplot\n",
    "import seaborn as sns\n",
    "url = \"https://raw.github.com/mattdelhey/kaggle-titanic/master/Data/train.csv\"\n",
    "titanic = pd.read_csv(url)\n",
    "titanic.info()\n",
    "sns.factorplot(\"sex\", data=titanic, palette=pal)"
   ]
  },
  {
   "cell_type": "code",
   "execution_count": 10,
   "metadata": {},
   "outputs": [
    {
     "data": {
      "image/png": "[encoded data removed]",
      "text/plain": [
       "<Figure size 432x288 with 1 Axes>"
      ]
     },
     "metadata": {},
     "output_type": "display_data"
    }
   ],
   "source": [
    "import seaborn as sns\n",
    "import matplotlib.pyplot as plt\n",
    "import numpy as np\n",
    "def sinplot():\n",
    "    x=np.linspace(0,8,100)\n",
    "    for i in range(1,5):\n",
    "        plt.plot(x,np.sin(x+i*.9))\n",
    "sns.set()\n",
    "sns.set_style('white')\n",
    "sinplot()"
   ]
  },
  {
   "cell_type": "code",
   "execution_count": null,
   "metadata": {},
   "outputs": [],
   "source": [
    "#seaborn has whitegrid,darkgrid,white,dark,ticks\n",
    "#boxplot\n",
    "data=np.arange(1,49,1).reshape(12,4)\n",
    "sns.boxplot(data=data)\n"
   ]
  },
  {
   "cell_type": "code",
   "execution_count": null,
   "metadata": {},
   "outputs": [],
   "source": [
    "#removing axes spines\n",
    "#despine_function\n",
    "sns.set_style('ticks')\n",
    "sinplot()\n",
    "sns.despine(offset=15,trim=False)"
   ]
  },
  {
   "cell_type": "code",
   "execution_count": null,
   "metadata": {},
   "outputs": [],
   "source": [
    "#kdeplot\n",
    "import seaborn as sns\n",
    "df=sns.load_dataset('tips')\n",
    "#large_bandwidth\n",
    "sns.kdeplot(df['tip'],shade=False,bw=.2,vertical=False,color='red')\n",
    "#narrow_bandwidth\n",
    "sns.kdeplot(df['tip'],shade=True,bw=.8,vertical=False,color='red')"
   ]
  },
  {
   "cell_type": "code",
   "execution_count": null,
   "metadata": {},
   "outputs": [],
   "source": [
    "#marginalplot\n",
    "import seaborn as sns\n",
    "df=sns.load_dataset('iris')\n",
    "sns.jointplot(x=df.iloc[:,0],y=df.iloc[:,1],kind='scatter')\n",
    "sns.jointplot(x=df.iloc[:,0],y=df.iloc[:,1],kind='hex')\n",
    "sns.jointplot(x=df.iloc[:,0],y=df.iloc[:,1],kind='regid')\n",
    "sns.jointplot(x=df.iloc[:,0],y=df.iloc[:,1],kind='barplot')\n",
    "sns.jointplot(x=df.iloc[:,0],y=df.iloc[:,1],kind='reg')\n",
    "\n",
    "\n"
   ]
  },
  {
   "cell_type": "code",
   "execution_count": null,
   "metadata": {},
   "outputs": [],
   "source": [
    "#bokeh and pdvega and min_bar makes_graph"
   ]
  },
  {
   "cell_type": "code",
   "execution_count": 3,
   "metadata": {},
   "outputs": [
    {
     "name": "stdout",
     "output_type": "stream",
     "text": [
      "showing info https://raw.githubusercontent.com/nltk/nltk_data/gh-pages/index.xml\n"
     ]
    },
    {
     "data": {
      "text/plain": [
       "True"
      ]
     },
     "execution_count": 3,
     "metadata": {},
     "output_type": "execute_result"
    }
   ],
   "source": [
    "import nltk\n",
    "nltk.download()"
   ]
  },
  {
   "cell_type": "code",
   "execution_count": 1,
   "metadata": {},
   "outputs": [],
   "source": [
    "#pandas_pivot_table\n",
    "import pandas as pd\n",
    "import numpy as np\n"
   ]
  },
  {
   "cell_type": "code",
   "execution_count": null,
   "metadata": {},
   "outputs": [],
   "source": []
  }
 ],
 "metadata": {
  "kernelspec": {
   "display_name": "Python 3",
   "language": "python",
   "name": "python3"
  },
  "language_info": {
   "codemirror_mode": {
    "name": "ipython",
    "version": 3
   },
   "file_extension": ".py",
   "mimetype": "text/x-python",
   "name": "python",
   "nbconvert_exporter": "python",
   "pygments_lexer": "ipython3",
   "version": "3.6.4"
  }
 },
 "nbformat": 4,
 "nbformat_minor": 4
}
