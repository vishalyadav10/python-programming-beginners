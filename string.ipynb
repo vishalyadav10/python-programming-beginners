{
 "cells": [
  {
   "cell_type": "code",
   "execution_count": 2,
   "metadata": {},
   "outputs": [
    {
     "name": "stdout",
     "output_type": "stream",
     "text": [
      "1\n",
      "4\n",
      "abab\n",
      "No\n"
     ]
    }
   ],
   "source": [
    "#Palindrome String\n",
    "t=int(input())\n",
    "for _ in range(t):\n",
    "    n=int(input())\n",
    "    a=input()\n",
    "    if (a==a[::-1]):\n",
    "        print('Yes')\n",
    "    else:\n",
    "        print('No')"
   ]
  },
  {
   "cell_type": "code",
   "execution_count": null,
   "metadata": {},
   "outputs": [],
   "source": [
    "#Reversing the vowels\n",
    "t=int(input())\n",
    "for _ in range(t):\n",
    "    str1 = input()\n",
    "    str2 = list(str1)\n",
    "    stack = []\n",
    "    \n",
    "    for i in range(len(str2)):\n",
    "        if str2[i] in 'aeiouAEIOU':\n",
    "            stack.append(str2[i])\n",
    "            \n",
    "    for i in range(len(str2)):\n",
    "        if str2[i] in 'aeiouAEIOU':\n",
    "            str2[i]=stack.pop()\n",
    "            \n",
    "    print(\"\".join(str2))\n"
   ]
  },
  {
   "cell_type": "code",
   "execution_count": null,
   "metadata": {},
   "outputs": [],
   "source": [
    "#permutations of a given string\n",
    "t = int(input())\n",
    "for _ in range(t):\n",
    "    str1 = input()\n",
    "    elems = list(str1)\n",
    "    elems.sort()\n",
    "    perm = itertools.permutations(elems)\n",
    "    for ele in perm:\n",
    "        print(''.join(ele), end=' ')\n",
    "    print('')\n",
    "    "
   ]
  },
  {
   "cell_type": "code",
   "execution_count": null,
   "metadata": {},
   "outputs": [],
   "source": [
    "#Reverse words in a given string\n",
    "t=int(input())\n",
    "for i in range(t):\n",
    "    str1=list(map(str,input().split(\".\")))\n",
    "    s=str1[::-1]\n",
    "    print(\".\".join(s))\n",
    "    "
   ]
  },
  {
   "cell_type": "code",
   "execution_count": 1,
   "metadata": {},
   "outputs": [
    {
     "name": "stdout",
     "output_type": "stream",
     "text": [
      "1\n",
      "5\n",
      "01001001\n",
      "3\n"
     ]
    }
   ],
   "source": [
    "#Binary String\n",
    "t=int(input())\n",
    "for _ in range(t):\n",
    "    n=int(input())\n",
    "    s = input()\n",
    "    count=0\n",
    "    for i in s:\n",
    "        if i=='1':\n",
    "            count+=1\n",
    "    m=count*(count-1)//2    \n",
    "    print(m)\n",
    "                     \n",
    "                     "
   ]
  },
  {
   "cell_type": "code",
   "execution_count": 12,
   "metadata": {},
   "outputs": [
    {
     "name": "stdout",
     "output_type": "stream",
     "text": [
      "gnirt\n"
     ]
    }
   ],
   "source": [
    "#Longest Palindrome in a String\n",
    "t=int(input())\n",
    "for _ in range(t):\n",
    "    s=input()\n",
    "    max=0\n",
    "    for i in range(len(s)):\n",
    "        for j in range(i+1,len(s)+1):\n",
    "            str=s[i:j]\n",
    "            if str==str[::-1] and max<len(str):\n",
    "                max=len(str)\n",
    "                final=str\n",
    "    print(final)    \n",
    "    "
   ]
  },
  {
   "cell_type": "code",
   "execution_count": null,
   "metadata": {},
   "outputs": [],
   "source": [
    "#longest common substring\n",
    "t=int(input())\n",
    "for _ in range(t):\n",
    "    n1,n2=list(map(int,input().split()))\n",
    "    a=input()\n",
    "    b=input()\n",
    "    \n",
    "    ans=0\n",
    "    \n",
    "    k = [ [0 for i in range(n1+1)] for j in range(n2+1) ]\n",
    " \n",
    "    for i in range(1,n2+1):\n",
    "        for j in range(1,n1+1):\n",
    "            if a[j-1]==b[i-1]:\n",
    "                k[i][j]=k[i-1][j-1]+1\n",
    "                if ans<k[i][j]:\n",
    "                    ans=k[i][j]\n",
    "            else:\n",
    "                k[i][j]=0\n",
    "    print (ans)\n",
    "    \n",
    "    \n"
   ]
  },
  {
   "cell_type": "code",
   "execution_count": null,
   "metadata": {},
   "outputs": [],
   "source": [
    "#longest common prefix\n",
    "t=int(input())\n",
    "for i in range(t):\n",
    "    s1= input()\n",
    "    s2=input()\n",
    "    count=0\n",
    "    a=[]\n",
    "    for i in range(len(s1)):\n",
    "        for j in range(i+1,len(s1)+1):\n",
    "            res=s1[i:j]\n",
    "            if res in s2 and len(res)>count:\n",
    "                count=len(res)\n",
    "                a.append(res)\n",
    "    ans=a[-1]\n",
    "    id=s2.index(ans)\n",
    "    print(id,ans)\n",
    "    #############\n",
    "    #############\n",
    "t=int(input())\n",
    "for _ in input():\n",
    "    s1 = input()\n",
    "    s2 = input()\n",
    "    pos = -1\n",
    "    while len(s1) != 0:\n",
    "        if s2.find(s1)==-1:\n",
    "            s1 = s1[:-1]\n",
    "        else:\n",
    "            pos = s2.find(s1)\n",
    "            break;\n",
    "    if pos==-1:\n",
    "        print(-1)\n",
    "    else:\n",
    "        print(pos, s1, sep=' ')\n",
    "        \n",
    "                \n",
    "        \n",
    "    "
   ]
  },
  {
   "cell_type": "code",
   "execution_count": null,
   "metadata": {},
   "outputs": [],
   "source": [
    "#Distinct palindromic substrings\n",
    "t=int(input())\n",
    "for _ in range(t):\n",
    "    s=input()\n",
    "    n=len(s)\n",
    "    a=[]\n",
    "    count=0\n",
    "    for i in range(n):\n",
    "        for j in range(i+1,n+1):\n",
    "            a.append(s[i:j])\n",
    "    b=set(a)        \n",
    "    for i in b:\n",
    "        if (i==i[::-1]):\n",
    "            count+=1\n",
    "    print(count)\n",
    "    "
   ]
  },
  {
   "cell_type": "code",
   "execution_count": null,
   "metadata": {},
   "outputs": [],
   "source": [
    "#roman_numerals\n",
    " def convertRoman(n):\n",
    "    val = [\n",
    "            1000, 900, 500, 400,\n",
    "            100, 90, 50, 40,\n",
    "            10, 9, 5, 4,\n",
    "            1\n",
    "            ]\n",
    "    syb = [\n",
    "            \"M\", \"CM\", \"D\", \"CD\",\n",
    "            \"C\", \"XC\", \"L\", \"XL\",\n",
    "            \"X\", \"IX\", \"V\", \"IV\",\n",
    "            \"I\"\n",
    "            ]\n",
    "    str1=''    \n",
    "    i=0\n",
    "    while  n> 0:\n",
    "            for _ in range(n // val[i]):\n",
    "                str1 += syb[i]\n",
    "                n -= val[i]\n",
    "            i += 1\n",
    "    return str1"
   ]
  },
  {
   "cell_type": "code",
   "execution_count": null,
   "metadata": {},
   "outputs": [],
   "source": [
    "#Arya's Long String\n",
    "t=int(input())\n",
    "for _ in range(t):\n",
    "    s = input()\n",
    "    k, n, c = map(str, input().split())\n",
    "    k,n = int(k), int(n)\n",
    "    s = ((s*k)[:n])\n",
    "    print (s.count(c))\n"
   ]
  },
  {
   "cell_type": "code",
   "execution_count": null,
   "metadata": {},
   "outputs": [],
   "source": [
    "from django.db.models import Model"
   ]
  },
  {
   "cell_type": "code",
   "execution_count": null,
   "metadata": {},
   "outputs": [],
   "source": []
  }
 ],
 "metadata": {
  "kernelspec": {
   "display_name": "Python 3",
   "language": "python",
   "name": "python3"
  },
  "language_info": {
   "codemirror_mode": {
    "name": "ipython",
    "version": 3
   },
   "file_extension": ".py",
   "mimetype": "text/x-python",
   "name": "python",
   "nbconvert_exporter": "python",
   "pygments_lexer": "ipython3",
   "version": "3.6.4"
  }
 },
 "nbformat": 4,
 "nbformat_minor": 2
}
