{
 "cells": [
  {
   "cell_type": "code",
   "execution_count": null,
   "metadata": {},
   "outputs": [],
   "source": [
    "#face_markup_points\n",
    "#bgr_color\n",
    "import cv2\n",
    "#cv2.__version__\n",
    "img=cv2.imread('katrina.jpg',cv2.IMREAD_COLOR)\n",
    "#cv2.line(img,(50,100),(300,100),(0,0,255),4) #for line\n",
    "#cv2.circle(img,(250,80),80,(0,0,255),-1) #for_circle\n",
    "#cv2.rectangle(img,(250,80),(350,140),(100,70,30),2)\n",
    "cv2.putText(img,'Katrina',(30,200),cv2.FONT_HERSHEY_PLAIN,1.5,(0,0,255))\n",
    "#img.shape\n",
    "cv2.imshow('Ducat',img)\n",
    "cv2.waitKey(0)\n",
    "cv2.destroyAllWindows()"
   ]
  },
  {
   "cell_type": "code",
   "execution_count": null,
   "metadata": {},
   "outputs": [],
   "source": [
    "#events_in_image\n",
    "import cv2\n",
    "import numpy as np\n",
    "def draw_circle(event,x,y,flags,param):\n",
    "    if event==cv2.EVENT_RBUTTONDBLCLK:\n",
    "        cv2.circle(img,(x,y),30,(0,0,255),-1)\n",
    "img=np.zeros((350,300,3),np.uint8)\n",
    "cv2.namedWindow('image')\n",
    "cv2.setMouseCallback('image',draw_circle)\n",
    "while(1):\n",
    "    cv2.imshow('image',img)\n",
    "    if cv2.waitKey(1) & 0xFF==27:\n",
    "        break\n",
    "cv2.destroyAllWindows()       "
   ]
  },
  {
   "cell_type": "code",
   "execution_count": null,
   "metadata": {},
   "outputs": [],
   "source": [
    "import cv2\n",
    "import numpy as np\n",
    "drawing = False # true if mouse is pressed\n",
    "mode = True # if True, draw rectangle. Press 'm' to toggle to curve\n",
    "ix,iy = -1,-1\n",
    "# mouse callback function\n",
    "def draw_circle(event,x,y,flags,param):\n",
    "    global ix,iy,drawing,mode\n",
    "\n",
    "    if event == cv2.EVENT_LBUTTONDOWN:\n",
    "        drawing = True\n",
    "        ix,iy = x,y\n",
    "\n",
    "    elif event == cv2.EVENT_MOUSEMOVE:\n",
    "        if drawing == True:\n",
    "            if mode == True:\n",
    "                cv2.rectangle(img,(ix,iy),(x,y),\n",
    "                              (0,255,0),-1)\n",
    "            else:\n",
    "                cv2.circle(img,(x,y),5,(0,0,255),-1)\n",
    "\n",
    "    elif event == cv2.EVENT_LBUTTONUP:\n",
    "        drawing = False\n",
    "        if mode == True:\n",
    "            cv2.rectangle(img,(ix,iy),(x,y),(0,255,120),-1)\n",
    "        else:\n",
    "            cv2.circle(img,(x,y),2,(0,0,255),-1)\n",
    "img = np.zeros((512,512,3))\n",
    "cv2.namedWindow('image')\n",
    "cv2.setMouseCallback('image',draw_circle)\n",
    "\n",
    "while(1):\n",
    "    cv2.imshow('image',img)\n",
    "    k = cv2.waitKey(1) & 0xFF\n",
    "    if k == ord('m'):\n",
    "        mode = not mode\n",
    "    elif k == 27:\n",
    "        break\n",
    "\n",
    "cv2.destroyAllWindows()"
   ]
  },
  {
   "cell_type": "markdown",
   "metadata": {},
   "source": [
    "# video capture"
   ]
  },
  {
   "cell_type": "code",
   "execution_count": null,
   "metadata": {},
   "outputs": [],
   "source": [
    "import cv2\n",
    "cam =cv2.VideoCapture(0)\n",
    "fourcc=cv2.VideoWriter_fourcc(*'XVId')\n",
    "out=cv2.VideoWriter('vishi.avi',fourcc,20.0,(640,480))\n",
    "while True:\n",
    "    ans,img=cam.read()\n",
    "    if ans:\n",
    "        cv2.cvtColor(img,cv2.IMREAD_COLOR)\n",
    "        cv2.imshow('caption',img)\n",
    "        if cv2.waitKey(1) & 0XFF==ord('q'):\n",
    "            break\n",
    "cam.release()\n",
    "cv2.destroyAllWindows()"
   ]
  },
  {
   "cell_type": "code",
   "execution_count": null,
   "metadata": {},
   "outputs": [],
   "source": [
    "#FAce_detection\n",
    "import cv2\n",
    "cam=cv2.VideoCapture(0)\n",
    "cascade=cv2.CascadeClassifier('haarcascade_frontalface_default.xml')\n",
    "while True:\n",
    "    ans,img=cam.read()\n",
    "    if ans:\n",
    "        gray=cv2.cvtColor(img,cv2.IMREAD_GRAYSCALE)\n",
    "        face=cascade.detectMultiScale(gray,1.3,5)\n",
    "        for (x,y,w,h) in face:\n",
    "            cv2.rectangle(img,(x,y),(x+w,y+h),(0,0,255),4)\n",
    "            cv2.imshow('Caption',img)\n",
    "            if cv2.waitKey(1) & 0XFF==ord('q'):\n",
    "                break\n",
    "cam.release()\n",
    "cv2.destroyAllWindows()"
   ]
  },
  {
   "cell_type": "code",
   "execution_count": null,
   "metadata": {},
   "outputs": [],
   "source": [
    "#eye_detection\n",
    "import cv2\n",
    "face_cascade = cv2.CascadeClassifier('haarcascade_frontalface_default.xml')#training Data\n",
    "eye_cascade = cv2.CascadeClassifier('haarcascade_eye.xml')\n",
    "cap = cv2.VideoCapture(0)\n",
    "\n",
    "while True:\n",
    "    ret, img = cap.read()\n",
    "    gray = cv2.cvtColor(img, cv2.IMREAD_GRAYSCALE)\n",
    "    faces = face_cascade.detectMultiScale(gray,1.3,5) \n",
    "    for (x,y,w,h) in faces:\n",
    "        cv2.rectangle(img,(x,y),(x+w,y+h),(0,0,255),2)\n",
    "        egray = gray[y:y+h, x:x+w]\n",
    "        #print(roi_gray)\n",
    "        ecolor = img[y:y+h, x:x+w]\n",
    "        eyes = eye_cascade.detectMultiScale(egray)\n",
    "        for (ex,ey,ew,eh) in eyes:\n",
    "            cv2.rectangle(ecolor, (ex,ey),(ex+ew, ey+eh),(0,255,0)\n",
    "                          ,2)\n",
    "    cv2.imshow('img',img)\n",
    "    k = cv2.waitKey(1) & 0XFF\n",
    "    if k ==27:\n",
    "        break\n",
    "cap.release()\n",
    "cv2.destroyAllWindows()"
   ]
  },
  {
   "cell_type": "code",
   "execution_count": null,
   "metadata": {},
   "outputs": [],
   "source": [
    "#resizing\n",
    "import cv2\n",
    "img=cv2.imread('katrina.jpg',cv2.IMREAD_UNCHANGED)\n",
    "print('dim',img.shape)\n",
    "scale_percent=40 #percent_of_original_image\n",
    "width=int(img.shape[1]*scale_percent /100)\n",
    "height=int(img.shape[0]*scale_percent /100)\n",
    "dim=(width,height)\n",
    "resized=cv2.resize(img,dim,interpolation=cv2.INTER_AREA)\n",
    "print(resized.shape)\n",
    "cv2.imshow(\"image\",resized)\n",
    "cv2.waitKey(0)\n",
    "cv2.destroyAllWindows()"
   ]
  },
  {
   "cell_type": "code",
   "execution_count": 4,
   "metadata": {},
   "outputs": [],
   "source": [
    "#crop\n",
    "import cv2\n",
    "image=cv2.imread('katrina.jpg',cv2.IMREAD_UNCHANGED)\n",
    "cropped=image[0:300,100:380]\n",
    "cv2.imshow(\"cropped\",cropped)\n",
    "cv2.waitKey(0)\n",
    "cv2.imwrite(\"crop.jpg\",cropped)\n",
    "cv2.destroyAllWindows()"
   ]
  },
  {
   "cell_type": "code",
   "execution_count": 9,
   "metadata": {},
   "outputs": [
    {
     "ename": "error",
     "evalue": "OpenCV(4.4.0) C:\\Users\\appveyor\\AppData\\Local\\Temp\\1\\pip-req-build-hfoi92lm\\opencv\\modules\\imgproc\\src\\color.cpp:182: error: (-215:Assertion failed) !_src.empty() in function 'cv::cvtColor'\n",
     "output_type": "error",
     "traceback": [
      "\u001b[1;31m---------------------------------------------------------------------------\u001b[0m",
      "\u001b[1;31merror\u001b[0m                                     Traceback (most recent call last)",
      "\u001b[1;32m<ipython-input-9-feec8ee57fa4>\u001b[0m in \u001b[0;36m<module>\u001b[1;34m\u001b[0m\n\u001b[0;32m      6\u001b[0m \u001b[1;32mwhile\u001b[0m \u001b[1;32mTrue\u001b[0m\u001b[1;33m:\u001b[0m\u001b[1;33m\u001b[0m\u001b[0m\n\u001b[0;32m      7\u001b[0m     \u001b[0mret\u001b[0m\u001b[1;33m,\u001b[0m\u001b[0mimg\u001b[0m\u001b[1;33m=\u001b[0m\u001b[0mcam\u001b[0m\u001b[1;33m.\u001b[0m\u001b[0mread\u001b[0m\u001b[1;33m(\u001b[0m\u001b[1;33m)\u001b[0m\u001b[1;33m\u001b[0m\u001b[0m\n\u001b[1;32m----> 8\u001b[1;33m     \u001b[0mgray\u001b[0m\u001b[1;33m=\u001b[0m\u001b[0mcv2\u001b[0m\u001b[1;33m.\u001b[0m\u001b[0mcvtColor\u001b[0m\u001b[1;33m(\u001b[0m\u001b[0mimg\u001b[0m\u001b[1;33m,\u001b[0m\u001b[0mcv2\u001b[0m\u001b[1;33m.\u001b[0m\u001b[0mCOLOR_BGR2GRAY\u001b[0m\u001b[1;33m)\u001b[0m\u001b[1;33m\u001b[0m\u001b[0m\n\u001b[0m\u001b[0;32m      9\u001b[0m     \u001b[0mfaces\u001b[0m\u001b[1;33m=\u001b[0m\u001b[0mfaceDetect\u001b[0m\u001b[1;33m.\u001b[0m\u001b[0mdetectMultiScale\u001b[0m\u001b[1;33m(\u001b[0m\u001b[0mgray\u001b[0m\u001b[1;33m)\u001b[0m\u001b[1;33m\u001b[0m\u001b[0m\n\u001b[0;32m     10\u001b[0m     \u001b[1;32mfor\u001b[0m\u001b[1;33m(\u001b[0m\u001b[0mx\u001b[0m\u001b[1;33m,\u001b[0m\u001b[0my\u001b[0m\u001b[1;33m,\u001b[0m\u001b[0mw\u001b[0m\u001b[1;33m,\u001b[0m\u001b[0mh\u001b[0m\u001b[1;33m)\u001b[0m \u001b[1;32min\u001b[0m \u001b[0mfaces\u001b[0m\u001b[1;33m:\u001b[0m\u001b[1;33m\u001b[0m\u001b[0m\n",
      "\u001b[1;31merror\u001b[0m: OpenCV(4.4.0) C:\\Users\\appveyor\\AppData\\Local\\Temp\\1\\pip-req-build-hfoi92lm\\opencv\\modules\\imgproc\\src\\color.cpp:182: error: (-215:Assertion failed) !_src.empty() in function 'cv::cvtColor'\n"
     ]
    }
   ],
   "source": [
    "#car_detection_from_video\n",
    "import cv2\n",
    "import numpy as np\n",
    "faceDetect=cv2.CascadeClassifier('cars.xml')\n",
    "cam=cv2.VideoCapture('Freewa.mp4')\n",
    "while True:\n",
    "    ret,img=cam.read()\n",
    "    gray=cv2.cvtColor(img,cv2.COLOR_BGR2GRAY)\n",
    "    faces=faceDetect.detectMultiScale(gray)\n",
    "    for(x,y,w,h) in faces:\n",
    "        cv2.rectangle(img,(x,y),(x+w,y+h),(0,0,255),2)\n",
    "    cv2.imshow('faces',img)    \n",
    "    if (cv2.waitKey(1)==ord('q')):\n",
    "        break\n",
    "cam.release()\n",
    "cv2.destroyAllWindows()"
   ]
  },
  {
   "cell_type": "code",
   "execution_count": null,
   "metadata": {},
   "outputs": [],
   "source": []
  }
 ],
 "metadata": {
  "kernelspec": {
   "display_name": "Python 3",
   "language": "python",
   "name": "python3"
  },
  "language_info": {
   "codemirror_mode": {
    "name": "ipython",
    "version": 3
   },
   "file_extension": ".py",
   "mimetype": "text/x-python",
   "name": "python",
   "nbconvert_exporter": "python",
   "pygments_lexer": "ipython3",
   "version": "3.6.4"
  }
 },
 "nbformat": 4,
 "nbformat_minor": 4
}
