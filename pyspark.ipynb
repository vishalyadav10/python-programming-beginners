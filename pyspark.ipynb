{
 "cells": [
  {
   "cell_type": "code",
   "execution_count": 10,
   "metadata": {},
   "outputs": [
    {
     "data": {
      "text/plain": [
       "'C:\\\\spark\\\\spark-3.0.0-bin-hadoop2.7'"
      ]
     },
     "execution_count": 10,
     "metadata": {},
     "output_type": "execute_result"
    }
   ],
   "source": [
    "import findspark\n",
    "findspark.init()\n",
    "findspark.find\n",
    "import pyspark\n",
    "findspark.find()"
   ]
  },
  {
   "cell_type": "code",
   "execution_count": 12,
   "metadata": {},
   "outputs": [],
   "source": [
    "sc.stop()"
   ]
  },
  {
   "cell_type": "code",
   "execution_count": null,
   "metadata": {},
   "outputs": [],
   "source": [
    "from pyspark import SparkContext\n",
    "sc=SparkContext('local','local')\n",
    "rd=sc.parallelize([1,2,3,4])\n",
    "rd.collect()"
   ]
  },
  {
   "cell_type": "code",
   "execution_count": null,
   "metadata": {},
   "outputs": [],
   "source": [
    "from pyspark.sql import Row\n",
    "from pyspark.sql import SQLContext\n",
    "sqlc=SQLContext(sc)\n",
    "li=[('vish',23,'3455'),('arun',24,'555'),('mohan',34,'666')]\n",
    "rdd=sc.parallelize(li)\n",
    "data=rdd.map(lambda x:Row(name=x[0],age=int(x[1]),salary=float(x[2])))\n",
    "dup=sqlc.createDataFrame(data)\n",
    "dup.printSchema()\n",
    "dup.show()"
   ]
  },
  {
   "cell_type": "code",
   "execution_count": 13,
   "metadata": {},
   "outputs": [],
   "source": [
    "from pyspark import SparkContext\n",
    "sc=SparkContext()\n",
    "#18-july-20"
   ]
  },
  {
   "cell_type": "code",
   "execution_count": 20,
   "metadata": {},
   "outputs": [
    {
     "name": "stdout",
     "output_type": "stream",
     "text": [
      "+---+------+------------+\n",
      "|age|fnlwgt|   education|\n",
      "+---+------+------------+\n",
      "| 25|226802|        11th|\n",
      "| 38| 89814|     HS-grad|\n",
      "| 28|336951|  Assoc-acdm|\n",
      "| 44|160323|Some-college|\n",
      "| 18|103497|Some-college|\n",
      "| 34|198693|        10th|\n",
      "| 29|227026|     HS-grad|\n",
      "| 63|104626| Prof-school|\n",
      "| 24|369667|Some-college|\n",
      "| 55|104996|     7th-8th|\n",
      "+---+------+------------+\n",
      "only showing top 10 rows\n",
      "\n"
     ]
    }
   ],
   "source": [
    "from pyspark.sql import SQLContext\n",
    "url='adult.csv'\n",
    "from pyspark import SparkFiles\n",
    "sc.addFile(url)\n",
    "sqlContext=SQLContext(sc)\n",
    "df=sqlContext.read.csv(SparkFiles.get(url),header=True,inferSchema=True)\n",
    "#df.show()\n",
    "df.select('age','fnlwgt','education').show(10)"
   ]
  },
  {
   "cell_type": "code",
   "execution_count": 22,
   "metadata": {},
   "outputs": [
    {
     "name": "stdout",
     "output_type": "stream",
     "text": [
      "root\n",
      " |-- age: string (nullable = true)\n",
      " |-- workclass: string (nullable = true)\n",
      " |-- fnlwgt: string (nullable = true)\n",
      " |-- education: string (nullable = true)\n",
      " |-- educational-num: integer (nullable = true)\n",
      " |-- marital-status: string (nullable = true)\n",
      " |-- occupation: string (nullable = true)\n",
      " |-- relationship: string (nullable = true)\n",
      " |-- race: string (nullable = true)\n",
      " |-- gender: string (nullable = true)\n",
      " |-- capital-gain: string (nullable = true)\n",
      " |-- capital-loss: integer (nullable = true)\n",
      " |-- hours-per-week: integer (nullable = true)\n",
      " |-- native-country: string (nullable = true)\n",
      " |-- income: string (nullable = true)\n",
      "\n"
     ]
    }
   ],
   "source": [
    "from pyspark.sql.types import*\n",
    "def convertColumn(df,names,newType):\n",
    "    for name in names:\n",
    "        df=df.withColumn(name,df[name].cast(newType))\n",
    "    return df\n",
    "CONTI_FEATURES=['age','fnlwgt','capital-gain']\n",
    "#convert_to_string\n",
    "df_string=convertColumn(df,CONTI_FEATURES,StringType())\n",
    "#check_dataset\n",
    "df_string.printSchema()\n",
    "        "
   ]
  },
  {
   "cell_type": "code",
   "execution_count": 26,
   "metadata": {},
   "outputs": [
    {
     "name": "stdout",
     "output_type": "stream",
     "text": [
      "root\n",
      " |-- age: integer (nullable = true)\n",
      " |-- workclass: string (nullable = true)\n",
      " |-- fnlwgt: integer (nullable = true)\n",
      " |-- education: string (nullable = true)\n",
      " |-- educational-num: integer (nullable = true)\n",
      " |-- marital-status: string (nullable = true)\n",
      " |-- occupation: string (nullable = true)\n",
      " |-- relationship: string (nullable = true)\n",
      " |-- race: string (nullable = true)\n",
      " |-- gender: string (nullable = true)\n",
      " |-- capital-gain: integer (nullable = true)\n",
      " |-- capital-loss: integer (nullable = true)\n",
      " |-- hours-per-week: integer (nullable = true)\n",
      " |-- native-country: string (nullable = true)\n",
      " |-- income: string (nullable = true)\n",
      " |-- newage: double (nullable = false)\n",
      "\n"
     ]
    }
   ],
   "source": [
    "#new_coulmn\n",
    "from pyspark.ml.feature import StringIndexer\n",
    "stringIndexer=StringIndexer(inputCol='age',outputCol='newage')\n",
    "model=stringIndexer.fit(df)\n",
    "df=model.transform(df)\n",
    "df.printSchema()"
   ]
  },
  {
   "cell_type": "code",
   "execution_count": 27,
   "metadata": {},
   "outputs": [
    {
     "name": "stdout",
     "output_type": "stream",
     "text": [
      "+------------+-----+\n",
      "|   education|count|\n",
      "+------------+-----+\n",
      "|     HS-grad|15784|\n",
      "|Some-college|10878|\n",
      "|   Bachelors| 8025|\n",
      "|     Masters| 2657|\n",
      "|   Assoc-voc| 2061|\n",
      "|        11th| 1812|\n",
      "|  Assoc-acdm| 1601|\n",
      "|        10th| 1389|\n",
      "|     7th-8th|  955|\n",
      "| Prof-school|  834|\n",
      "|         9th|  756|\n",
      "|        12th|  657|\n",
      "|   Doctorate|  594|\n",
      "|     5th-6th|  509|\n",
      "|     1st-4th|  247|\n",
      "|   Preschool|   83|\n",
      "+------------+-----+\n",
      "\n"
     ]
    }
   ],
   "source": [
    "df.groupby('education').count().sort('count',ascending=False).show()"
   ]
  },
  {
   "cell_type": "code",
   "execution_count": 31,
   "metadata": {},
   "outputs": [
    {
     "data": {
      "text/plain": [
       "DataFrame[summary: string, age: string, workclass: string, fnlwgt: string, education: string, educational-num: string, marital-status: string, occupation: string, relationship: string, race: string, gender: string, capital-gain: string, capital-loss: string, hours-per-week: string, native-country: string, income: string, newage: string]"
      ]
     },
     "execution_count": 31,
     "metadata": {},
     "output_type": "execute_result"
    }
   ],
   "source": [
    "#df.describe()\n",
    "df.describe('capital-gain').show()"
   ]
  },
  {
   "cell_type": "code",
   "execution_count": 33,
   "metadata": {},
   "outputs": [
    {
     "data": {
      "text/plain": [
       "['age',\n",
       " 'workclass',\n",
       " 'fnlwgt',\n",
       " 'educational-num',\n",
       " 'marital-status',\n",
       " 'occupation',\n",
       " 'relationship',\n",
       " 'race',\n",
       " 'gender',\n",
       " 'capital-gain',\n",
       " 'capital-loss',\n",
       " 'hours-per-week',\n",
       " 'native-country',\n",
       " 'income',\n",
       " 'newage']"
      ]
     },
     "execution_count": 33,
     "metadata": {},
     "output_type": "execute_result"
    }
   ],
   "source": [
    "#remove_columns(drop and dropna)\n",
    "df.drop('education').columns"
   ]
  },
  {
   "cell_type": "code",
   "execution_count": 36,
   "metadata": {},
   "outputs": [
    {
     "name": "stdout",
     "output_type": "stream",
     "text": [
      "+--------------------+------------------+\n",
      "|      marital-status| avg(capital-gain)|\n",
      "+--------------------+------------------+\n",
      "|           Separated| 581.8424836601307|\n",
      "|       Never-married|  384.382639449029|\n",
      "|Married-spouse-ab...| 629.0047770700637|\n",
      "|            Divorced| 793.6755615860094|\n",
      "|             Widowed| 603.6442687747035|\n",
      "|   Married-AF-spouse|2971.6216216216217|\n",
      "|  Married-civ-spouse|1739.7006121810625|\n",
      "+--------------------+------------------+\n",
      "\n"
     ]
    }
   ],
   "source": [
    "#people_above_40\n",
    "#df.filter(df.age >40).count()\n",
    "df.groupby('marital-status').agg({'capital-gain':'mean'}).show()"
   ]
  },
  {
   "cell_type": "code",
   "execution_count": 38,
   "metadata": {},
   "outputs": [
    {
     "name": "stdout",
     "output_type": "stream",
     "text": [
      "+---+----------+\n",
      "|age|age_square|\n",
      "+---+----------+\n",
      "| 25|     625.0|\n",
      "| 38|    1444.0|\n",
      "| 28|     784.0|\n",
      "| 44|    1936.0|\n",
      "| 18|     324.0|\n",
      "| 34|    1156.0|\n",
      "| 29|     841.0|\n",
      "| 63|    3969.0|\n",
      "| 24|     576.0|\n",
      "| 55|    3025.0|\n",
      "| 65|    4225.0|\n",
      "| 36|    1296.0|\n",
      "| 26|     676.0|\n",
      "| 58|    3364.0|\n",
      "| 48|    2304.0|\n",
      "| 43|    1849.0|\n",
      "| 20|     400.0|\n",
      "| 43|    1849.0|\n",
      "| 37|    1369.0|\n",
      "| 40|    1600.0|\n",
      "+---+----------+\n",
      "only showing top 20 rows\n",
      "\n"
     ]
    }
   ],
   "source": [
    "#datapreprocessing\n",
    "from pyspark.sql.functions import*\n",
    "age_square1=df.select(col(\"age\")**2)\n",
    "#print(age_square1)\n",
    "#transform\n",
    "df=df.withColumn(\"age_square\",col(\"age\")**2)\n",
    "df.select('age','age_square').show()"
   ]
  },
  {
   "cell_type": "code",
   "execution_count": 40,
   "metadata": {},
   "outputs": [
    {
     "name": "stdout",
     "output_type": "stream",
     "text": [
      "+---+----------+---------+------+------------+------------------+\n",
      "|age|age_square|workclass|fnlwgt|   education|    marital-status|\n",
      "+---+----------+---------+------+------------+------------------+\n",
      "| 25|     625.0|  Private|226802|        11th|     Never-married|\n",
      "| 38|    1444.0|  Private| 89814|     HS-grad|Married-civ-spouse|\n",
      "| 28|     784.0|Local-gov|336951|  Assoc-acdm|Married-civ-spouse|\n",
      "| 44|    1936.0|  Private|160323|Some-college|Married-civ-spouse|\n",
      "| 18|     324.0|        ?|103497|Some-college|     Never-married|\n",
      "+---+----------+---------+------+------------+------------------+\n",
      "only showing top 5 rows\n",
      "\n"
     ]
    }
   ],
   "source": [
    "COLUMNS=['age','age_square','workclass','fnlwgt','education','marital-status']\n",
    "df1=df.select(COLUMNS)\n",
    "df1.show(5)"
   ]
  },
  {
   "cell_type": "code",
   "execution_count": 42,
   "metadata": {},
   "outputs": [
    {
     "name": "stdout",
     "output_type": "stream",
     "text": [
      "+--------------------+---------------------+\n",
      "|      native-country|count(native-country)|\n",
      "+--------------------+---------------------+\n",
      "|  Holand-Netherlands|                    1|\n",
      "|             Hungary|                   19|\n",
      "|            Honduras|                   20|\n",
      "|            Scotland|                   21|\n",
      "|                Laos|                   23|\n",
      "|Outlying-US(Guam-...|                   23|\n",
      "|          Yugoslavia|                   23|\n",
      "|     Trinadad&Tobago|                   27|\n",
      "|            Cambodia|                   28|\n",
      "|            Thailand|                   30|\n",
      "|                Hong|                   30|\n",
      "|             Ireland|                   37|\n",
      "|              France|                   38|\n",
      "|             Ecuador|                   45|\n",
      "|                Peru|                   46|\n",
      "|              Greece|                   49|\n",
      "|           Nicaragua|                   49|\n",
      "|                Iran|                   59|\n",
      "|              Taiwan|                   65|\n",
      "|            Portugal|                   67|\n",
      "+--------------------+---------------------+\n",
      "only showing top 20 rows\n",
      "\n"
     ]
    }
   ],
   "source": [
    "df.groupby('native-country').agg({'native-country':'count'}).sort(asc('count(native-country)')).show()"
   ]
  },
  {
   "cell_type": "code",
   "execution_count": 43,
   "metadata": {},
   "outputs": [
    {
     "name": "stdout",
     "output_type": "stream",
     "text": [
      "+---+----------------+------+------------+---------------+------------------+-----------------+-------------+------------------+------+------------+------------+--------------+--------------+------+------+----------+\n",
      "|age|       workclass|fnlwgt|   education|educational-num|    marital-status|       occupation| relationship|              race|gender|capital-gain|capital-loss|hours-per-week|native-country|income|newage|age_square|\n",
      "+---+----------------+------+------------+---------------+------------------+-----------------+-------------+------------------+------+------------+------------+--------------+--------------+------+------+----------+\n",
      "| 25|         Private|226802|        11th|              7|     Never-married|Machine-op-inspct|    Own-child|             Black|  Male|           0|           0|            40| United-States| <=50K|  16.0|     625.0|\n",
      "| 38|         Private| 89814|     HS-grad|              9|Married-civ-spouse|  Farming-fishing|      Husband|             White|  Male|           0|           0|            50| United-States| <=50K|   9.0|    1444.0|\n",
      "| 28|       Local-gov|336951|  Assoc-acdm|             12|Married-civ-spouse|  Protective-serv|      Husband|             White|  Male|           0|           0|            40| United-States|  >50K|   6.0|     784.0|\n",
      "| 44|         Private|160323|Some-college|             10|Married-civ-spouse|Machine-op-inspct|      Husband|             Black|  Male|        7688|           0|            40| United-States|  >50K|  27.0|    1936.0|\n",
      "| 18|               ?|103497|Some-college|             10|     Never-married|                ?|    Own-child|             White|Female|           0|           0|            30| United-States| <=50K|  31.0|     324.0|\n",
      "| 34|         Private|198693|        10th|              6|     Never-married|    Other-service|Not-in-family|             White|  Male|           0|           0|            30| United-States| <=50K|   5.0|    1156.0|\n",
      "| 29|               ?|227026|     HS-grad|              9|     Never-married|                ?|    Unmarried|             Black|  Male|           0|           0|            40| United-States| <=50K|  13.0|     841.0|\n",
      "| 63|Self-emp-not-inc|104626| Prof-school|             15|Married-civ-spouse|   Prof-specialty|      Husband|             White|  Male|        3103|           0|            32| United-States|  >50K|  47.0|    3969.0|\n",
      "| 24|         Private|369667|Some-college|             10|     Never-married|    Other-service|    Unmarried|             White|Female|           0|           0|            40| United-States| <=50K|  14.0|     576.0|\n",
      "| 55|         Private|104996|     7th-8th|              4|Married-civ-spouse|     Craft-repair|      Husband|             White|  Male|           0|           0|            10| United-States| <=50K|  36.0|    3025.0|\n",
      "| 65|         Private|184454|     HS-grad|              9|Married-civ-spouse|Machine-op-inspct|      Husband|             White|  Male|        6418|           0|            40| United-States|  >50K|  48.0|    4225.0|\n",
      "| 36|     Federal-gov|212465|   Bachelors|             13|Married-civ-spouse|     Adm-clerical|      Husband|             White|  Male|           0|           0|            40| United-States| <=50K|   0.0|    1296.0|\n",
      "| 26|         Private| 82091|     HS-grad|              9|     Never-married|     Adm-clerical|Not-in-family|             White|Female|           0|           0|            39| United-States| <=50K|  20.0|     676.0|\n",
      "| 58|               ?|299831|     HS-grad|              9|Married-civ-spouse|                ?|      Husband|             White|  Male|           0|           0|            35| United-States| <=50K|  40.0|    3364.0|\n",
      "| 48|         Private|279724|     HS-grad|              9|Married-civ-spouse|Machine-op-inspct|      Husband|             White|  Male|        3103|           0|            48| United-States|  >50K|  33.0|    2304.0|\n",
      "| 43|         Private|346189|     Masters|             14|Married-civ-spouse|  Exec-managerial|      Husband|             White|  Male|           0|           0|            50| United-States|  >50K|  22.0|    1849.0|\n",
      "| 20|       State-gov|444554|Some-college|             10|     Never-married|    Other-service|    Own-child|             White|  Male|           0|           0|            25| United-States| <=50K|  21.0|     400.0|\n",
      "| 43|         Private|128354|     HS-grad|              9|Married-civ-spouse|     Adm-clerical|         Wife|             White|Female|           0|           0|            30| United-States| <=50K|  22.0|    1849.0|\n",
      "| 37|         Private| 60548|     HS-grad|              9|           Widowed|Machine-op-inspct|    Unmarried|             White|Female|           0|           0|            20| United-States| <=50K|   7.0|    1369.0|\n",
      "| 40|         Private| 85019|   Doctorate|             16|Married-civ-spouse|   Prof-specialty|      Husband|Asian-Pac-Islander|  Male|           0|           0|            45|             ?|  >50K|  17.0|    1600.0|\n",
      "+---+----------------+------+------------+---------------+------------------+-----------------+-------------+------------------+------+------------+------------+--------------+--------------+------+------+----------+\n",
      "only showing top 20 rows\n",
      "\n"
     ]
    }
   ],
   "source": [
    "#filterr(not-holand)\n",
    "df.filter(df['native-country']!='Holand-Netherlands').show()"
   ]
  },
  {
   "cell_type": "code",
   "execution_count": null,
   "metadata": {},
   "outputs": [],
   "source": [
    "#count txt_lines\n",
    "import pyspark \n",
    "sc.stop()\n",
    "sc=pyspark.SparkContext()\n",
    "txt=sc.textFile('mt.txt')\n",
    "print(txt.count())"
   ]
  }
 ],
 "metadata": {
  "kernelspec": {
   "display_name": "Python 3",
   "language": "python",
   "name": "python3"
  },
  "language_info": {
   "codemirror_mode": {
    "name": "ipython",
    "version": 3
   },
   "file_extension": ".py",
   "mimetype": "text/x-python",
   "name": "python",
   "nbconvert_exporter": "python",
   "pygments_lexer": "ipython3",
   "version": "3.6.4"
  }
 },
 "nbformat": 4,
 "nbformat_minor": 4
}
