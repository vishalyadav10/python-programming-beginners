{
 "cells": [
  {
   "cell_type": "code",
   "execution_count": 1,
   "metadata": {},
   "outputs": [
    {
     "name": "stdout",
     "output_type": "stream",
     "text": [
      "1\n",
      "4\n",
      "1 23 42 45\n",
      "-1 -1 -1 -1\n"
     ]
    }
   ],
   "source": [
    "# Immediate Smaller Element\n",
    "t=int(input())\n",
    "for n in range(t):\n",
    "    n=int(input())\n",
    "    arr=[int(x) for x in input().split()[:n]]\n",
    "    for j in range(n-1):\n",
    "        if arr[j]>arr[j+1]:\n",
    "            print(arr[j+1],end=\" \")\n",
    "        else:\n",
    "            print(\"-1\",end=\" \")\n",
    "    print(\"-1\")"
   ]
  },
  {
   "cell_type": "code",
   "execution_count": 2,
   "metadata": {},
   "outputs": [
    {
     "name": "stdout",
     "output_type": "stream",
     "text": [
      "1\n",
      "4\n",
      "1 34 23 12\n",
      "2\n",
      "23 12 1 34\n"
     ]
    }
   ],
   "source": [
    "#Rotating an Array\n",
    "t=int(input())\n",
    "for i in range(t):\n",
    "    n=int(input())\n",
    "    arr=[int(x) for x in input().split()[:n]]\n",
    "    d=int(input())\n",
    "    a=arr[d:]\n",
    "    b=arr[:d]\n",
    "    ab=' '.join(map(str,a+b))\n",
    "    print(ab)\n",
    "        "
   ]
  },
  {
   "cell_type": "code",
   "execution_count": null,
   "metadata": {},
   "outputs": [],
   "source": [
    "#Rotate Array\n",
    "t=int(input())\n",
    "for i in range(t):\n",
    "    n,d=list(map(int, input (). split ()))\n",
    "    arr=list(map(int,input().split()[:n]))\n",
    "    b=arr[d:n]\n",
    "    c=arr[0:d]\n",
    "    d=b+c\n",
    "    li = ' '.join(map(str, d)) \n",
    "    print(li)  \n",
    "        "
   ]
  },
  {
   "cell_type": "code",
   "execution_count": null,
   "metadata": {},
   "outputs": [],
   "source": [
    "#leaders in array\n",
    "t=int(input())\n",
    "for i in range(t):\n",
    "    n=int(input())\n",
    "    arr=list(map(int,input().split()[:n]))\n",
    "    a=[]\n",
    "    for x in range(n):\n",
    "        for y in range(x+1,n):\n",
    "            if arr[y]>=arr[x]:\n",
    "                break\n",
    "        if y==n-1:\n",
    "            a.append(arr[x])\n",
    "            \n",
    "    li=' '.join(map(str,a))  \n",
    "    print(li)\n",
    "    "
   ]
  },
  {
   "cell_type": "code",
   "execution_count": null,
   "metadata": {},
   "outputs": [],
   "source": [
    "#Reverse an Array\n",
    "t=int(input())\n",
    "for i in range(t):\n",
    "    n=int(input())\n",
    "    a=[]\n",
    "    arr=[int(x) for x in input().split()[:n]]\n",
    "    arr.reverse()\n",
    "    for j in arr:\n",
    "        print(j,end=\" \")\n",
    "    print()    "
   ]
  },
  {
   "cell_type": "code",
   "execution_count": null,
   "metadata": {},
   "outputs": [],
   "source": [
    "#Reverse array in groups\n",
    "t=int(input())\n",
    "for i in range(t):\n",
    "    n,k=[int(x) for x in input(\"Enter two value: \").split()] \n",
    "    a=list(map(int,input().split()[:n]))\n",
    "    start=0\n",
    "    while start<n:\n",
    "        print(*reversed(a[start:start+k]),end=' ')\n",
    "        start+=k\n",
    "    print()     "
   ]
  },
  {
   "cell_type": "code",
   "execution_count": null,
   "metadata": {},
   "outputs": [],
   "source": [
    "#Print an array in Pendulum Arrangement\n",
    "t=int(input())    \n",
    "for i in range(t):\n",
    "    n=int(input())\n",
    "    a=list(map(int,input().split()[:n]))\n",
    "    a.sort()\n",
    "    b=list(reversed(a[0::2]))+a[1::2]\n",
    "    print(' '.join(map(str, b)))\n"
   ]
  },
  {
   "cell_type": "code",
   "execution_count": 5,
   "metadata": {},
   "outputs": [
    {
     "name": "stdout",
     "output_type": "stream",
     "text": [
      "1\n",
      "4 55\n",
      "4 65 34 77\n",
      "4\n",
      "34\n",
      "65\n",
      "65\n"
     ]
    }
   ],
   "source": [
    "#Find the closest number\n",
    "t=int(input())\n",
    "for j in range(t):\n",
    "    n,k=map(int,input().split()) \n",
    "    a=[int(x) for x in input().split()[:n]]\n",
    "    a.sort()\n",
    "    b=a[0]\n",
    "    for i in range(len(a)):\n",
    "        if abs(k-a[i])<=abs(k-b):\n",
    "            b=a[i]\n",
    "    print(b)          "
   ]
  },
  {
   "cell_type": "code",
   "execution_count": null,
   "metadata": {},
   "outputs": [],
   "source": [
    "#Sort in specific order\n",
    "t=int(input())\n",
    "for i in range(t):\n",
    "    n=int(input())\n",
    "    a=list(map(int,input().split()[:n]))\n",
    "    a.sort()\n",
    "    even=[]\n",
    "    odd=[]\n",
    "    for i in a:\n",
    "        if (i%2==0):\n",
    "            even.append(i)\n",
    "        else:\n",
    "            odd.append(i)\n",
    "    odd.reverse()\n",
    "    b=odd+even\n",
    "    print(\" \".join(map(str,b)))"
   ]
  },
  {
   "cell_type": "code",
   "execution_count": null,
   "metadata": {},
   "outputs": [],
   "source": [
    "#chocolate distribution problem\n",
    "t=int(input())\n",
    "for i in range(t):\n",
    "    n=int(input())\n",
    "    a=list(map(int, input().split()))\n",
    "    m=int(input())\n",
    "    a.sort()\n",
    "    i=0\n",
    "    j=m-1\n",
    "    mini=a[j]-a[i]\n",
    "    while(j<n):\n",
    "        diff=a[j]-a[i]\n",
    "        if(mini>diff):\n",
    "            mini=diff\n",
    "        j+=1\n",
    "        i+=1\n",
    "    print(mini)\n",
    "        "
   ]
  },
  {
   "cell_type": "code",
   "execution_count": 8,
   "metadata": {},
   "outputs": [
    {
     "name": "stdout",
     "output_type": "stream",
     "text": [
      "1\n",
      "5 3\n",
      "34 23 45 56 23\n",
      "3 3 3 \n"
     ]
    }
   ],
   "source": [
    "#count distinct elements in window\n",
    "def countDistinct(arr, n, k):\n",
    "    for i in range(n-k+1):\n",
    "        a=[]\n",
    "        for j in range(i,i+k):\n",
    "            if((i+k)<=len(arr)):\n",
    "                a.append(arr[j])\n",
    "        print(len(set(a)),end=\" \")\n",
    "    print()\n",
    "if __name__ == \"__main__\":\n",
    "    t=int(input())\n",
    "    for i in range(t):\n",
    "        n,k=list(map(int,input().split()))\n",
    "        arr=[int(x) for x in input().split()]\n",
    "        countDistinct(arr, n, k)\n",
    "    "
   ]
  },
  {
   "cell_type": "code",
   "execution_count": null,
   "metadata": {},
   "outputs": [],
   "source": [
    "#find the fine\n",
    "t=int(input())\n",
    "for j in range(t):\n",
    "    n,d=map(int,input().split()) \n",
    "    a=[int(i) for i in input().split()]\n",
    "    fn=[int(i) for i in input().split()]\n",
    "    s=[]\n",
    "    if d%2==0:\n",
    "        for i in range(len(a)):\n",
    "            if a[i]%2==0:\n",
    "                print(end=\"\")\n",
    "            else:\n",
    "                s.append(fn[i])\n",
    "    else:\n",
    "        for i in range(len(a)):\n",
    "            if a[i]%2==0:\n",
    "                 s.append(fn[i])\n",
    "            else:\n",
    "                print(end=\"\")\n",
    "        \n",
    "    a=sum(s)\n",
    "    print(a)\n",
    "                \n",
    "    "
   ]
  },
  {
   "cell_type": "code",
   "execution_count": null,
   "metadata": {},
   "outputs": [],
   "source": [
    "#max of all subarrrays of size k\n",
    "t=int(input())\n",
    "for i in range(t):\n",
    "    n,k=list(map(int,input().split()))\n",
    "    a=[int(x) for x in input().split()]\n",
    "    for j in range(n-k+1):\n",
    "        arr=[]\n",
    "        for m in range(j,j+k):\n",
    "            if (i+k)<=n:\n",
    "                arr.append(a[m])\n",
    "        arr = max(arr) if arr else None\n",
    "        print(arr,end=' ')\n",
    "    print()    \n",
    "    "
   ]
  },
  {
   "cell_type": "code",
   "execution_count": null,
   "metadata": {},
   "outputs": [],
   "source": [
    "#pythogorean triplet\n",
    "t=int(input())\n",
    "for x in range(t):\n",
    "    n=int(input())\n",
    "    l=list(map(int,input().split()))\n",
    "    for i in range(0,len(l)):\n",
    "        l[i] = l[i]*l[i]\n",
    "    a=set(l)\n",
    "    f=0\n",
    "    for i in range(0,len(l)-1):\n",
    "        for j in range(i+1,len(l)):\n",
    "            if(l[i]+l[j] in a):\n",
    "                f=1\n",
    "                print(\"Yes\")\n",
    "                break\n",
    "        if(f==1):\n",
    "            break\n",
    "    \n",
    "    if(f==0):\n",
    "        print(\"No\")"
   ]
  },
  {
   "cell_type": "code",
   "execution_count": null,
   "metadata": {},
   "outputs": [],
   "source": [
    "#Equilibrium point\n",
    "t = int(input())\n",
    "for _ in range(t):\n",
    "    n = int(input())\n",
    "    arr = list(map( int , input().split()))\n",
    "    \n",
    "    flag=0\n",
    "    s = 0\n",
    "    leftsum = 0\n",
    "    \n",
    "    for i in range(n):\n",
    "        s = s + arr[i] \n",
    "    for i in range(n):\n",
    "        s = s - arr[i]\n",
    "        if s == leftsum:\n",
    "            flag=1\n",
    "            print(i+1)\n",
    "            break\n",
    "        leftsum = leftsum + arr[i]  \n",
    "    if flag == 0:\n",
    "        print(\"-1\")"
   ]
  },
  {
   "cell_type": "code",
   "execution_count": null,
   "metadata": {},
   "outputs": [],
   "source": [
    " t=int(input())\n",
    "for _ in range(t):\n",
    "    n,k=list(map(int, input ().split ()))\n",
    "    arr=list(map(int,input().split()[:n]))\n",
    "    f=0\n",
    "    for i in range(n):\n",
    "        for j in range(1,n):\n",
    "            s=sum(arr[i:j])\n",
    "            if s==k:\n",
    "                f=1\n",
    "                print(i+1,j)\n",
    "            elif s>k:\n",
    "                break\n",
    "    if f==1:\n",
    "        break\n",
    "            "
   ]
  },
  {
   "cell_type": "code",
   "execution_count": null,
   "metadata": {},
   "outputs": [],
   "source": [
    "#Subarray with given sum\n",
    "t=int(input())\n",
    "for _ in range(t):\n",
    "    n,k=list(map(int, input ().split ()))\n",
    "    arr=list(map(int,input().split()[:n]))\n",
    "    f=False\n",
    "    for i in range(n):\n",
    "        for j in range(1,n):\n",
    "            s=sum(arr[i:j])\n",
    "            if s==k:\n",
    "                f=True\n",
    "                print(i+1,j)\n",
    "                break\n",
    "            elif s>k:\n",
    "                break\n",
    "        if f:\n",
    "            break              "
   ]
  },
  {
   "cell_type": "code",
   "execution_count": null,
   "metadata": {},
   "outputs": [],
   "source": [
    "#Type of array\n",
    "t=int(input())\n",
    "for i in range(t):\n",
    "    n=int(input())\n",
    "    arr = list(map(int,input().split()))\n",
    "    _max = max(arr)\n",
    "    asc = sorted(arr)\n",
    "    desc = sorted(arr,reverse=True)\n",
    "    flag = 0\n",
    "    if (arr == asc):\n",
    "        print(_max,1)\n",
    "        flag = 1\n",
    "    elif (arr == desc):\n",
    "        print(_max,2)\n",
    "        flag = 1\n",
    "    if (flag==0):\n",
    "        x = arr.index(min(arr))\n",
    "        if (_max == arr[x-1]):\n",
    "            print(_max,4)\n",
    "        else:\n",
    "            print(_max,3)\n",
    "        \n",
    "    \n",
    "    "
   ]
  },
  {
   "cell_type": "code",
   "execution_count": null,
   "metadata": {},
   "outputs": [],
   "source": [
    "#absolute diffrence of 1\n",
    "t=int(input())\n",
    "for _ in range(t):\n",
    "    n,k=list(map(int,input().split()))\n",
    "    a=list(map(int,input().split()[:n]))\n",
    "    new=[]\n",
    "    for i in range(n):\n",
    "        count=0\n",
    "        if a[i]<k and len(str(a[i]))>1:\n",
    "            b=str(a[i])\n",
    "            for j in range(0,len(b)-1):\n",
    "                if int(b[j])-int(b[j+1])==1 or int(b[j])-int(b[j+1])==-1:\n",
    "                    count+=1\n",
    "            if count==len(b)-1:\n",
    "                new.append(a[i])\n",
    "    if len(new)==0:\n",
    "        print(-1)\n",
    "    else:\n",
    "        print(*new)   \n",
    "        \n",
    "\n",
    "       \n",
    "        \n",
    "        \n",
    "        \n",
    "\n",
    "    "
   ]
  },
  {
   "cell_type": "code",
   "execution_count": null,
   "metadata": {},
   "outputs": [],
   "source": [
    "#longest common inc subsequence\n"
   ]
  },
  {
   "cell_type": "code",
   "execution_count": null,
   "metadata": {},
   "outputs": [],
   "source": [
    "#longest common prefix\n",
    "# A python3 Program to find the longest \n",
    "# common prefix \n",
    "\n",
    "# A Utility Function to find the common \n",
    "# prefix between strings- str1 and str2 \n",
    "def commonPrefixUtil(str1, str2): \n",
    "\n",
    "\tresult = \"\"; \n",
    "\tn1 = len(str1) \n",
    "\tn2 = len(str2) \n",
    "\n",
    "\t# Compare str1 and str2 \n",
    "\ti = 0\n",
    "\tj = 0\n",
    "\twhile i <= n1 - 1 and j <= n2 - 1: \n",
    "\t\n",
    "\t\tif (str1[i] != str2[j]): \n",
    "\t\t\tbreak\n",
    "\t\t\t\n",
    "\t\tresult += str1[i] \n",
    "\t\ti += 1\n",
    "\t\tj += 1\n",
    "\n",
    "\treturn (result) \n",
    "\n",
    "# A Function that returns the longest \n",
    "# common prefix from the array of strings \n",
    "def commonPrefix (arr, n): \n",
    "\n",
    "\tprefix = arr[0] \n",
    "\n",
    "\tfor i in range (1, n): \n",
    "\t\tprefix = commonPrefixUtil(prefix, arr[i]) \n",
    "\n",
    "\treturn (prefix) \n",
    "\n",
    "# Driver Code \n",
    "if __name__ ==\"__main__\": \n",
    "    t=int(input())\n",
    "    for _ in range(t):\n",
    "        n = int (input())\n",
    "        arr=list(map(str,input().split()[:n]))\n",
    "        ans = commonPrefix(arr, n) \n",
    "        if (len(ans)>0): \n",
    "            print (ans)\n",
    "        else:\n",
    "            print(\"-1\")\n",
    "\n"
   ]
  },
  {
   "cell_type": "code",
   "execution_count": null,
   "metadata": {},
   "outputs": [],
   "source": [
    "#search an element in array \n",
    "t=int(input())\n",
    "for _ in range(t):\n",
    "    n=int(input())\n",
    "    a=[int(x) for x in input().split()]\n",
    "    k=int(input())\n",
    "    s=[a.index(k) if k in a else \"-1\"]\n",
    "    print(s)\n",
    "    "
   ]
  },
  {
   "cell_type": "code",
   "execution_count": null,
   "metadata": {},
   "outputs": [],
   "source": [
    "#binary search\n",
    "# Iterative Binary Search Function \n",
    "# It returns location of x in given array arr if present, \n",
    "# else returns -1 \n",
    "def binarySearch(arr, l, r, x): \n",
    "\n",
    "\twhile l <= r: \n",
    "\n",
    "\t\tmid = int(l + (r - l)/2)\n",
    "\t\t\n",
    "\t\t# Check if x is present at mid \n",
    "\t\tif arr[mid] == x: \n",
    "\t\t\treturn mid \n",
    "\n",
    "\t\t# If x is greater, ignore left half \n",
    "\t\telif arr[mid] < x: \n",
    "\t\t\tl = mid + 1\n",
    "\n",
    "\t\t# If x is smaller, ignore right half \n",
    "\t\telse: \n",
    "\t\t\tr = mid - 1\n",
    "\t\n",
    "\t# If we reach here, then the element was not present \n",
    "\treturn -1\n",
    "\n",
    "\n",
    "# Test array \n",
    "arr = [ 2, 3, 4, 10, 40 ] \n",
    "x = 10\n",
    "\n",
    "# Function call \n",
    "result = binarySearch(arr, 0, len(arr)-1, x) \n",
    "\n",
    "\n"
   ]
  },
  {
   "cell_type": "code",
   "execution_count": null,
   "metadata": {},
   "outputs": [],
   "source": [
    "#first and last occurrence of \n",
    "t=int(input())\n",
    "for _ in range(t):\n",
    "    n=int(input())\n",
    "    a=list(map(int,input().split()))\n",
    "    k=int(input())\n",
    "    new=[]\n",
    "    f=0\n",
    "    for i in range(n):\n",
    "        if a[i]==k:\n",
    "            f=1\n",
    "            new.append(i)\n",
    "    if f==1:\n",
    "        print(min(new),max(new))\n",
    "    if f==0:\n",
    "        print(\"-1\")\n",
    "  "
   ]
  },
  {
   "cell_type": "code",
   "execution_count": null,
   "metadata": {},
   "outputs": [],
   "source": [
    "#Number of occurrence\n",
    "t=int(input())\n",
    "for i in range(t):\n",
    "    n,k=list(map(int,input().split()))\n",
    "    a=list(map(int,input().split()))\n",
    "    f=0\n",
    "    for i in a:\n",
    "        if i==k:\n",
    "            f+=1\n",
    "    if f==0:\n",
    "        print(\"-1\")\n",
    "    if f>0:\n",
    "        print(f)         "
   ]
  },
  {
   "cell_type": "code",
   "execution_count": null,
   "metadata": {},
   "outputs": [],
   "source": [
    "#second largest\n",
    "t=int(input())\n",
    "for i in range(t):\n",
    "    n=int(input())\n",
    "    a=list(map(int,input().split()[:n]))\n",
    "    a.sort()\n",
    "    print(a[-2])"
   ]
  },
  {
   "cell_type": "code",
   "execution_count": null,
   "metadata": {},
   "outputs": [],
   "source": [
    "#floor in a sorted array\n",
    "t=int(input())\n",
    "for j in range(t):\n",
    "    n,x = map(int,input().split())\n",
    "    arr        = list(map(int,input().split()))\n",
    "    answer     = -1\n",
    "    for i in range(n):\n",
    "        if arr[i] == x or arr[i] < x:\n",
    "           answer = i\n",
    "     print(answer)"
   ]
  },
  {
   "cell_type": "code",
   "execution_count": null,
   "metadata": {},
   "outputs": [],
   "source": [
    "#remove consonant\n",
    "s1=input()\n",
    "s=list(s1)\n",
    "c = ['A','E','I','O','U','a','e','i','o','u',' ']\n",
    "ans = []\n",
    "for i in range(len(s)):\n",
    "    if s[i] in c:\n",
    "        ans.append(s[i])\n",
    "if len(ans) > 0:\n",
    "    print(''.join(ans))\n",
    "elif len(ans)==0:\n",
    "    print(\"No Vowel\")\n",
    "    \n",
    "    \n"
   ]
  },
  {
   "cell_type": "code",
   "execution_count": null,
   "metadata": {},
   "outputs": [],
   "source": []
  }
 ],
 "metadata": {
  "kernelspec": {
   "display_name": "Python 3",
   "language": "python",
   "name": "python3"
  },
  "language_info": {
   "codemirror_mode": {
    "name": "ipython",
    "version": 3
   },
   "file_extension": ".py",
   "mimetype": "text/x-python",
   "name": "python",
   "nbconvert_exporter": "python",
   "pygments_lexer": "ipython3",
   "version": "3.6.4"
  }
 },
 "nbformat": 4,
 "nbformat_minor": 2
}
