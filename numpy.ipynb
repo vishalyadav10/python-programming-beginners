{
 "cells": [
  {
   "cell_type": "code",
   "execution_count": 1,
   "metadata": {},
   "outputs": [],
   "source": [
    "#numpy"
   ]
  },
  {
   "cell_type": "code",
   "execution_count": 3,
   "metadata": {},
   "outputs": [
    {
     "name": "stdout",
     "output_type": "stream",
     "text": [
      "[1 2 3]\n",
      "[[1 2 3]\n",
      " [4 5 6]]\n",
      "[1 3 2]\n"
     ]
    }
   ],
   "source": [
    "# Creation of Arrays\n",
    "import numpy as np\n",
    "arr = np.array([1, 2, 3])\n",
    "print(arr)\n",
    "arr = np.array([[1, 2, 3],[4, 5, 6]])\n",
    "print( arr)\n",
    "# Creating an array from tuple\n",
    "arr = np.array((1, 3, 2))\n",
    "print( arr)\n"
   ]
  },
  {
   "cell_type": "code",
   "execution_count": 4,
   "metadata": {},
   "outputs": [
    {
     "name": "stdout",
     "output_type": "stream",
     "text": [
      "Initial Array: \n",
      "[[-1.   2.   0.   4. ]\n",
      " [ 4.  -0.5  6.   0. ]\n",
      " [ 2.6  0.   7.   8. ]\n",
      " [ 3.  -7.   4.   2. ]]\n",
      "Array with first 2 rows and alternate columns(0 and 2):\n",
      " [[-1.  0.]\n",
      " [ 4.  6.]]\n",
      "\n",
      "Elements at indices (1, 3), (1, 2), (0, 1), (3, 0):\n",
      " [0. 6. 2. 3.]\n"
     ]
    }
   ],
   "source": [
    "# indexing in numpy array\n",
    "import numpy as np\n",
    "# Initial Array\n",
    "arr = np.array([[-1, 2, 0, 4],\n",
    "\t\t\t\t[4, -0.5, 6, 0],\n",
    "\t\t\t\t[2.6, 0, 7, 8],\n",
    "\t\t\t\t[3, -7, 4, 2.0]])\n",
    "print(\"Initial Array: \")\n",
    "print(arr)\n",
    "# with the use of slicing method\n",
    "sliced_arr = arr[:2, ::2]\n",
    "print (\"Array with first 2 rows and\"\n",
    "\t\" alternate columns(0 and 2):\\n\", sliced_arr)\n",
    "# specific Indices\n",
    "Index_arr = arr[[1, 1, 0, 3], \n",
    "\t\t\t\t[3, 2, 1, 0]]\n",
    "print (\"\\nElements at indices (1, 3), \"\n",
    "\t\"(1, 2), (0, 1), (3, 0):\\n\", Index_arr)\n"
   ]
  },
  {
   "cell_type": "code",
   "execution_count": 5,
   "metadata": {},
   "outputs": [
    {
     "name": "stdout",
     "output_type": "stream",
     "text": [
      "Array elements in sorted order:\n",
      " [-1  0  1  2  3  4  4  5  6]\n",
      "Row-wise sorted array:\n",
      " [[ 1  2  4]\n",
      " [ 3  4  6]\n",
      " [-1  0  5]]\n",
      "Column wise sort by applying merge-sort:\n",
      " [[ 0 -1  2]\n",
      " [ 1  4  5]\n",
      " [ 3  4  6]]\n",
      "\n",
      "Array sorted by names:\n",
      " [(b'Aakash', 2009, 9. ) (b'Ajay', 2008, 8.7) (b'Hrithik', 2009, 8.5)\n",
      " (b'Pankaj', 2008, 7.9)]\n",
      "Array sorted by grauation year and then cgpa:\n",
      " [(b'Pankaj', 2008, 7.9) (b'Ajay', 2008, 8.7) (b'Hrithik', 2009, 8.5)\n",
      " (b'Aakash', 2009, 9. )]\n"
     ]
    }
   ],
   "source": [
    "# Python program to demonstrate sorting in numpy \n",
    "import numpy as np \n",
    "\n",
    "a = np.array([[1, 4, 2], \n",
    "\t\t\t\t[3, 4, 6], \n",
    "\t\t\t[0, -1, 5]]) \n",
    "\n",
    "# sorted array \n",
    "print (\"Array elements in sorted order:\\n\", \n",
    "\t\t\t\t\tnp.sort(a, axis = None)) \n",
    "\n",
    "# sort array row-wise \n",
    "print (\"Row-wise sorted array:\\n\", \n",
    "\t\t\t\tnp.sort(a, axis = 1)) \n",
    "\n",
    "# specify sort algorithm \n",
    "print (\"Column wise sort by applying merge-sort:\\n\", \n",
    "\t\t\tnp.sort(a, axis = 0, kind = 'mergesort')) \n",
    "\n",
    "# Example to show sorting of structured array \n",
    "# set alias names for dtypes \n",
    "dtypes = [('name', 'S10'), ('grad_year', int), ('cgpa', float)] \n",
    "\n",
    "# Values to be put in array \n",
    "values = [('Hrithik', 2009, 8.5), ('Ajay', 2008, 8.7), \n",
    "\t\t('Pankaj', 2008, 7.9), ('Aakash', 2009, 9.0)] \n",
    "\t\t\t\n",
    "# Creating array \n",
    "arr = np.array(values, dtype = dtypes) \n",
    "print (\"\\nArray sorted by names:\\n\", \n",
    "\t\t\tnp.sort(arr, order = 'name')) \n",
    "\t\t\t\n",
    "print (\"Array sorted by grauation year and then cgpa:\\n\", \n",
    "\t\t\t\tnp.sort(arr, order = ['grad_year', 'cgpa'])) \n"
   ]
  },
  {
   "cell_type": "code",
   "execution_count": null,
   "metadata": {},
   "outputs": [],
   "source": []
  }
 ],
 "metadata": {
  "kernelspec": {
   "display_name": "Python 3",
   "language": "python",
   "name": "python3"
  },
  "language_info": {
   "codemirror_mode": {
    "name": "ipython",
    "version": 3
   },
   "file_extension": ".py",
   "mimetype": "text/x-python",
   "name": "python",
   "nbconvert_exporter": "python",
   "pygments_lexer": "ipython3",
   "version": "3.6.4"
  }
 },
 "nbformat": 4,
 "nbformat_minor": 4
}
