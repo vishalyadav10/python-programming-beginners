{
 "cells": [
  {
   "cell_type": "code",
   "execution_count": null,
   "metadata": {},
   "outputs": [],
   "source": [
    "#seaborn"
   ]
  },
  {
   "cell_type": "code",
   "execution_count": 1,
   "metadata": {},
   "outputs": [
    {
     "name": "stdout",
     "output_type": "stream",
     "text": [
      "Setup Complete\n"
     ]
    }
   ],
   "source": [
    "import pandas as pd\n",
    "pd.plotting.register_matplotlib_converters()\n",
    "import matplotlib.pyplot as plt\n",
    "%matplotlib inline\n",
    "import seaborn as sns\n",
    "print(\"Setup Complete\")"
   ]
  },
  {
   "cell_type": "code",
   "execution_count": null,
   "metadata": {},
   "outputs": [],
   "source": [
    "# Path of the file to read\n",
    "fifa_filepath = \"E:/python/data/2018_Sales_Total.xlsx\"\n",
    "\n",
    "# Read the file into a variable fifa_data\n",
    "f_data = pd.read_excel(fifa_filepath,index_col=\"date\",parse_dates=True)\n",
    "f_data"
   ]
  },
  {
   "cell_type": "code",
   "execution_count": null,
   "metadata": {},
   "outputs": [],
   "source": [
    "plt.figure(figsize=(16,6))\n",
    "\n",
    "# Line chart showing how FIFA rankings evolved over time \n",
    "sns.lineplot(data=f_data)"
   ]
  },
  {
   "cell_type": "code",
   "execution_count": null,
   "metadata": {},
   "outputs": [],
   "source": [
    "# Path of the file to read\n",
    "spotify_filepath = \"../input/spotify.csv\"\n",
    "\n",
    "# Read the file into a variable spotify_data\n",
    "spotify_data = pd.read_csv(spotify_filepath, index_col=\"Date\", parse_dates=True)\n",
    "# Set the width and height of the figure\n",
    "plt.figure(figsize=(14,6))\n",
    "# Add title\n",
    "plt.title(\"Daily Global Streams of Popular Songs in 2017-2018\")\n",
    "\n",
    "# Line chart showing daily global streams of 'Shape of You'\n",
    "sns.lineplot(data=spotify_data['Shape of You'], label=\"Shape of You\")\n",
    "\n",
    "# Line chart showing daily global streams of 'Despacito'\n",
    "sns.lineplot(data=spotify_data['Despacito'], label=\"Despacito\")\n",
    "\n",
    "# Add label for horizontal axis\n",
    "plt.xlabel(\"Date\")"
   ]
  },
  {
   "cell_type": "code",
   "execution_count": null,
   "metadata": {},
   "outputs": [],
   "source": [
    "#line_charts"
   ]
  },
  {
   "cell_type": "code",
   "execution_count": null,
   "metadata": {},
   "outputs": [],
   "source": [
    "# Path of the file to read\n",
    "filepath = \"E:/python/kaggle/Museum_Visitors.csv\"\n",
    "museum_data = pd.read_csv(filepath, index_col=\"Month\", parse_dates=True)\n",
    "# Set the width and height of the figure\n",
    "plt.figure(figsize=(12,6))\n",
    "# Add title\n",
    "plt.title(\"Monthly Visitors\")\n",
    "#sns.lineplot(data=museum_data.iloc[:,:5])\n",
    "sns.lineplot(data=museum_data,marker=\"o\",dashes=False)\n",
    "plt.xlabel(\"Date\")"
   ]
  },
  {
   "cell_type": "code",
   "execution_count": null,
   "metadata": {},
   "outputs": [],
   "source": [
    "#barcharts_heatmaps"
   ]
  },
  {
   "cell_type": "code",
   "execution_count": null,
   "metadata": {},
   "outputs": [],
   "source": [
    "f_name=\"E:/python/kaggle/ign_scores.csv\"\n",
    "ign_data=pd.read_csv(f_name,index_col=\"Platform\")\n",
    "plt.figure(figsize=(10,8))\n",
    "#sns.barplot(x=ign_data['Racing'],y=ign_data.index)\n",
    "sns.heatmap(ign_data,annot=True)\n",
    "plt.xlabel=\"\"\n",
    "plt.title=\"racing\""
   ]
  },
  {
   "cell_type": "code",
   "execution_count": null,
   "metadata": {},
   "outputs": [],
   "source": [
    "f_n=\"E:/python/kaggle/candy.csv\"\n",
    "candy_data=pd.read_csv(f_n,index_col=\"id\")\n",
    "sns.scatterplot(x=candy_data['pricepercent'],y=candy_data['winpercent'],hue=candy_data['chocolate'])\n",
    "sns.regplot(x=candy_data['sugarpercent'],y=candy_data['winpercent'])\n",
    "sns.lmplot(x='pricepercent',y='winpercent',hue='chocolate',data=candy_data)"
   ]
  },
  {
   "cell_type": "code",
   "execution_count": null,
   "metadata": {},
   "outputs": [],
   "source": [
    "#histograms"
   ]
  },
  {
   "cell_type": "code",
   "execution_count": null,
   "metadata": {},
   "outputs": [],
   "source": [
    "# Paths of the files to read\n",
    "cancer_b_filepath = \"E:/python/kaggle/cancer_b.csv\"\n",
    "cancer_m_filepath = \"E:/python/kaggle/cancer_m.csv\"\n",
    "cancer_b_data =pd.read_csv(cancer_b_filepath,index_col=\"Id\")\n",
    "cancer_m_data = pd.read_csv(cancer_m_filepath,index_col=\"Id\")\n",
    "# Histograms for benign and maligant tumors\n",
    "sns.distplot(a=cancer_b_data['Area (mean)'], label=\"Benign\", kde=False)\n",
    "sns.distplot(a=cancer_m_data['Area (mean)'], label=\"Malignant\", kde=False)\n",
    "plt.legend()"
   ]
  },
  {
   "cell_type": "code",
   "execution_count": null,
   "metadata": {},
   "outputs": [],
   "source": [
    "# KDE plots for benign and malignant tumors\n",
    "sns.kdeplot(data=cancer_b_data['Radius (worst)'], shade=True, label=\"Benign\")\n",
    "sns.kdeplot(data=cancer_m_data['Radius (worst)'],shade=True,label=\"Maligant\")\n",
    "plt.legend()\n"
   ]
  },
  {
   "cell_type": "code",
   "execution_count": null,
   "metadata": {},
   "outputs": [],
   "source": [
    "sns.jointplot(x=cancer_b_data[\"Radius (worst)\"], y=cancer_b_data['Area (mean)'], kind=\"kde\")"
   ]
  },
  {
   "cell_type": "code",
   "execution_count": null,
   "metadata": {},
   "outputs": [],
   "source": [
    "`\"darkgrid\"`\"whitegrid\"``\"dark\"`\"white\"\"ticks\"`"
   ]
  },
  {
   "cell_type": "code",
   "execution_count": null,
   "metadata": {},
   "outputs": [],
   "source": [
    "# Path of the file to read\n",
    "spotify_filepath = \"E:/python/kaggle/spotify.csv\"\n",
    "# Read the file into a variable spotify_data\n",
    "spotify_data = pd.read_csv(spotify_filepath, index_col=\"Date\", parse_dates=True)\n",
    "sns.set_style(\"whitegrid\")\n",
    "plt.figure(figsize=(12,6))\n",
    "sns.lineplot(data=spotify_data)"
   ]
  },
  {
   "cell_type": "code",
   "execution_count": 4,
   "metadata": {},
   "outputs": [
    {
     "data": {
      "text/plain": [
       "<matplotlib.axes._subplots.AxesSubplot at 0x24d2a449748>"
      ]
     },
     "execution_count": 4,
     "metadata": {},
     "output_type": "execute_result"
    },
    {
     "data": {
      "image/png": "[encoded data removed]",
      "text/plain": [
       "<Figure size 432x288 with 1 Axes>"
      ]
     },
     "metadata": {
      "needs_background": "light"
     },
     "output_type": "display_data"
    }
   ],
   "source": [
    "my_filepath = \"E:/python/kaggle/dc-wikia-data.csv\"\n",
    "my_data =pd.read_csv(my_filepath,index_col=\"name\")\n",
    "sns.barplot(x=my_data.index,y=my_data['APPEARANCES'])"
   ]
  },
  {
   "cell_type": "code",
   "execution_count": null,
   "metadata": {},
   "outputs": [
    {
     "data": {
      "text/plain": [
       "<matplotlib.axes._subplots.AxesSubplot at 0x24d1a635be0>"
      ]
     },
     "execution_count": 5,
     "metadata": {},
     "output_type": "execute_result"
    }
   ],
   "source": [
    "my_filepath = \"E:/python/kaggle/dc-wikia-data.csv\"\n",
    "my_data =pd.read_csv(my_filepath,index_col=\"name\")\n",
    "sns.lineplot(data=my_data['APPEARANCES'], label=\"name\")\n"
   ]
  },
  {
   "cell_type": "code",
   "execution_count": null,
   "metadata": {},
   "outputs": [],
   "source": []
  }
 ],
 "metadata": {
  "kernelspec": {
   "display_name": "Python 3",
   "language": "python",
   "name": "python3"
  },
  "language_info": {
   "codemirror_mode": {
    "name": "ipython",
    "version": 3
   },
   "file_extension": ".py",
   "mimetype": "text/x-python",
   "name": "python",
   "nbconvert_exporter": "python",
   "pygments_lexer": "ipython3",
   "version": "3.6.4"
  }
 },
 "nbformat": 4,
 "nbformat_minor": 4
}
